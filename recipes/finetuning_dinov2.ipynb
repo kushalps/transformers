{
  "cells": [
    {
      "cell_type": "markdown",
      "metadata": {
        "id": "jOuV0h8U3Pc8"
      },
      "source": [
        "<a href=\"https://colab.research.google.com/github/kili-technology/kili-python-sdk/blob/main/recipes/finetuning_dinov2.ipynb\" target=\"_parent\"><img src=\"https://colab.research.google.com/assets/colab-badge.svg\" alt=\"Open In Colab\"/></a>"
      ]
    },
    {
      "cell_type": "markdown",
      "metadata": {
        "id": "COd9C6Yw3Pc9"
      },
      "source": [
        "# How to fine-tune DINOv2 for image classification\n",
        "\n"
      ]
    },
    {
      "cell_type": "markdown",
      "metadata": {
        "id": "0mWNk0Gm3Pc9"
      },
      "source": [
        "This tutorial shows how to use the [DINOv2](https://dinov2.metademolab.com/) self-supervised vision transformer model to generate pre-annotations on a defect detection use case.\n",
        "\n",
        "Modern foundation models (FMs) are capable of performing many diverse tasks; large language models can quickly and accurately process natural language while models focused on image processing are very good at computer vision tasks, such as object detection or classification.\n",
        "\n",
        "By retraining an FM on a very limited set of examples, it is possible to even further improve its performance on a specific task, such as image classification. This process is called fine-tuning.\n",
        "\n",
        "Throughout this tutorial, we will:\n",
        "\n",
        "- Configure a project on Kili.\n",
        "- Fine-tune the DINOv2 model using a tiny set of labeled images on Kili.\n",
        "- Generate pre-annotations on a set of images to label.\n",
        "- Evaluate the quality of the generated pre-annotations in the Kili interface.\n"
      ]
    },
    {
      "cell_type": "markdown",
      "metadata": {
        "id": "zeNI3lyL3Pc_"
      },
      "source": [
        "## Setup"
      ]
    },
    {
      "cell_type": "markdown",
      "metadata": {
        "id": "1B_7r2wv3Pc_"
      },
      "source": [
        "Let's first install the Kili package and all other packages required for our experiment:"
      ]
    },
    {
      "cell_type": "code",
      "execution_count": 1,
      "metadata": {
        "id": "KnTyxZQJ3Pc_",
        "outputId": "274bb948-ca16-41fb-dd9f-24926a667ae4",
        "colab": {
          "base_uri": "https://localhost:8080/"
        }
      },
      "outputs": [
        {
          "output_type": "stream",
          "name": "stdout",
          "text": [
            "Collecting kili\n",
            "  Downloading kili-2.146.0-py3-none-any.whl (264 kB)\n",
            "\u001b[2K     \u001b[90m━━━━━━━━━━━━━━━━━━━━━━━━━━━━━━━━━━━━━━━\u001b[0m \u001b[32m264.8/264.8 kB\u001b[0m \u001b[31m4.6 MB/s\u001b[0m eta \u001b[36m0:00:00\u001b[0m\n",
            "\u001b[?25hRequirement already satisfied: matplotlib in /usr/local/lib/python3.10/dist-packages (3.7.1)\n",
            "Requirement already satisfied: numpy in /usr/local/lib/python3.10/dist-packages (1.23.5)\n",
            "Requirement already satisfied: Pillow in /usr/local/lib/python3.10/dist-packages (9.4.0)\n",
            "Requirement already satisfied: scikit-learn in /usr/local/lib/python3.10/dist-packages (1.2.2)\n",
            "Requirement already satisfied: torch in /usr/local/lib/python3.10/dist-packages (2.0.1+cu118)\n",
            "Requirement already satisfied: torchvision in /usr/local/lib/python3.10/dist-packages (0.15.2+cu118)\n",
            "Requirement already satisfied: kaggle in /usr/local/lib/python3.10/dist-packages (1.5.16)\n",
            "Requirement already satisfied: tqdm in /usr/local/lib/python3.10/dist-packages (4.66.1)\n",
            "Requirement already satisfied: pandas<3.0.0,>=1.0.0 in /usr/local/lib/python3.10/dist-packages (from kili) (1.5.3)\n",
            "Requirement already satisfied: click<9.0.0,>=8.0.0 in /usr/local/lib/python3.10/dist-packages (from kili) (8.1.7)\n",
            "Requirement already satisfied: requests<3.0.0,>=2.0.0 in /usr/local/lib/python3.10/dist-packages (from kili) (2.31.0)\n",
            "Requirement already satisfied: tabulate<0.10.0,>=0.9.0 in /usr/local/lib/python3.10/dist-packages (from kili) (0.9.0)\n",
            "Requirement already satisfied: tenacity<9.0.0,>=8.0.0 in /usr/local/lib/python3.10/dist-packages (from kili) (8.2.3)\n",
            "Collecting typeguard<3.0.0,>=2.0.0 (from kili)\n",
            "  Downloading typeguard-2.13.3-py3-none-any.whl (17 kB)\n",
            "Requirement already satisfied: typing-extensions<5.0.0,>=4.1.0 in /usr/local/lib/python3.10/dist-packages (from kili) (4.5.0)\n",
            "Requirement already satisfied: pyparsing<4.0.0,>=3.0.0 in /usr/local/lib/python3.10/dist-packages (from kili) (3.1.1)\n",
            "Requirement already satisfied: websocket-client<2.0.0,>=1.0.0 in /usr/local/lib/python3.10/dist-packages (from kili) (1.6.2)\n",
            "Requirement already satisfied: pyyaml<7.0,>=6.0 in /usr/local/lib/python3.10/dist-packages (from kili) (6.0.1)\n",
            "Collecting cuid<0.5,>=0.4 (from kili)\n",
            "  Downloading cuid-0.4.tar.gz (5.0 kB)\n",
            "  Preparing metadata (setup.py) ... \u001b[?25l\u001b[?25hdone\n",
            "Requirement already satisfied: pydantic<3,>=1.0 in /usr/local/lib/python3.10/dist-packages (from kili) (1.10.12)\n",
            "Requirement already satisfied: urllib3<3,>=1.26 in /usr/local/lib/python3.10/dist-packages (from kili) (2.0.4)\n",
            "Collecting ffmpeg-python<0.3.0,>=0.2.0 (from kili)\n",
            "  Downloading ffmpeg_python-0.2.0-py3-none-any.whl (25 kB)\n",
            "Collecting gql[requests,websockets]<4.0.0,>=3.5.0b5 (from kili)\n",
            "  Downloading gql-3.5.0b5-py2.py3-none-any.whl (69 kB)\n",
            "\u001b[2K     \u001b[90m━━━━━━━━━━━━━━━━━━━━━━━━━━━━━━━━━━━━━━━━\u001b[0m \u001b[32m69.3/69.3 kB\u001b[0m \u001b[31m8.1 MB/s\u001b[0m eta \u001b[36m0:00:00\u001b[0m\n",
            "\u001b[?25hRequirement already satisfied: filelock<4.0.0,>=3.0.0 in /usr/local/lib/python3.10/dist-packages (from kili) (3.12.2)\n",
            "Collecting pyrate-limiter<3,>=2 (from kili)\n",
            "  Downloading pyrate_limiter-2.10.0-py3-none-any.whl (16 kB)\n",
            "Requirement already satisfied: contourpy>=1.0.1 in /usr/local/lib/python3.10/dist-packages (from matplotlib) (1.1.0)\n",
            "Requirement already satisfied: cycler>=0.10 in /usr/local/lib/python3.10/dist-packages (from matplotlib) (0.11.0)\n",
            "Requirement already satisfied: fonttools>=4.22.0 in /usr/local/lib/python3.10/dist-packages (from matplotlib) (4.42.1)\n",
            "Requirement already satisfied: kiwisolver>=1.0.1 in /usr/local/lib/python3.10/dist-packages (from matplotlib) (1.4.5)\n",
            "Requirement already satisfied: packaging>=20.0 in /usr/local/lib/python3.10/dist-packages (from matplotlib) (23.1)\n",
            "Requirement already satisfied: python-dateutil>=2.7 in /usr/local/lib/python3.10/dist-packages (from matplotlib) (2.8.2)\n",
            "Requirement already satisfied: scipy>=1.3.2 in /usr/local/lib/python3.10/dist-packages (from scikit-learn) (1.11.2)\n",
            "Requirement already satisfied: joblib>=1.1.1 in /usr/local/lib/python3.10/dist-packages (from scikit-learn) (1.3.2)\n",
            "Requirement already satisfied: threadpoolctl>=2.0.0 in /usr/local/lib/python3.10/dist-packages (from scikit-learn) (3.2.0)\n",
            "Requirement already satisfied: sympy in /usr/local/lib/python3.10/dist-packages (from torch) (1.12)\n",
            "Requirement already satisfied: networkx in /usr/local/lib/python3.10/dist-packages (from torch) (3.1)\n",
            "Requirement already satisfied: jinja2 in /usr/local/lib/python3.10/dist-packages (from torch) (3.1.2)\n",
            "Requirement already satisfied: triton==2.0.0 in /usr/local/lib/python3.10/dist-packages (from torch) (2.0.0)\n",
            "Requirement already satisfied: cmake in /usr/local/lib/python3.10/dist-packages (from triton==2.0.0->torch) (3.27.4.1)\n",
            "Requirement already satisfied: lit in /usr/local/lib/python3.10/dist-packages (from triton==2.0.0->torch) (16.0.6)\n",
            "Requirement already satisfied: six>=1.10 in /usr/local/lib/python3.10/dist-packages (from kaggle) (1.16.0)\n",
            "Requirement already satisfied: certifi in /usr/local/lib/python3.10/dist-packages (from kaggle) (2023.7.22)\n",
            "Requirement already satisfied: python-slugify in /usr/local/lib/python3.10/dist-packages (from kaggle) (8.0.1)\n",
            "Requirement already satisfied: bleach in /usr/local/lib/python3.10/dist-packages (from kaggle) (6.0.0)\n",
            "Requirement already satisfied: future in /usr/local/lib/python3.10/dist-packages (from ffmpeg-python<0.3.0,>=0.2.0->kili) (0.18.3)\n",
            "Collecting graphql-core<3.4,>=3.3.0a3 (from gql[requests,websockets]<4.0.0,>=3.5.0b5->kili)\n",
            "  Downloading graphql_core-3.3.0a3-py3-none-any.whl (209 kB)\n",
            "\u001b[2K     \u001b[90m━━━━━━━━━━━━━━━━━━━━━━━━━━━━━━━━━━━━━━\u001b[0m \u001b[32m209.9/209.9 kB\u001b[0m \u001b[31m11.1 MB/s\u001b[0m eta \u001b[36m0:00:00\u001b[0m\n",
            "\u001b[?25hRequirement already satisfied: yarl<2.0,>=1.6 in /usr/local/lib/python3.10/dist-packages (from gql[requests,websockets]<4.0.0,>=3.5.0b5->kili) (1.9.2)\n",
            "Collecting backoff<3.0,>=1.11.1 (from gql[requests,websockets]<4.0.0,>=3.5.0b5->kili)\n",
            "  Downloading backoff-2.2.1-py3-none-any.whl (15 kB)\n",
            "Collecting websockets<12,>=10 (from gql[requests,websockets]<4.0.0,>=3.5.0b5->kili)\n",
            "  Downloading websockets-11.0.3-cp310-cp310-manylinux_2_5_x86_64.manylinux1_x86_64.manylinux_2_17_x86_64.manylinux2014_x86_64.whl (129 kB)\n",
            "\u001b[2K     \u001b[90m━━━━━━━━━━━━━━━━━━━━━━━━━━━━━━━━━━━━━━\u001b[0m \u001b[32m129.9/129.9 kB\u001b[0m \u001b[31m10.8 MB/s\u001b[0m eta \u001b[36m0:00:00\u001b[0m\n",
            "\u001b[?25hCollecting requests-toolbelt<1,>=0.9.1 (from gql[requests,websockets]<4.0.0,>=3.5.0b5->kili)\n",
            "  Downloading requests_toolbelt-0.10.1-py2.py3-none-any.whl (54 kB)\n",
            "\u001b[2K     \u001b[90m━━━━━━━━━━━━━━━━━━━━━━━━━━━━━━━━━━━━━━━━\u001b[0m \u001b[32m54.5/54.5 kB\u001b[0m \u001b[31m5.9 MB/s\u001b[0m eta \u001b[36m0:00:00\u001b[0m\n",
            "\u001b[?25hCollecting urllib3<3,>=1.26 (from kili)\n",
            "  Downloading urllib3-1.26.16-py2.py3-none-any.whl (143 kB)\n",
            "\u001b[2K     \u001b[90m━━━━━━━━━━━━━━━━━━━━━━━━━━━━━━━━━━━━━━\u001b[0m \u001b[32m143.1/143.1 kB\u001b[0m \u001b[31m11.8 MB/s\u001b[0m eta \u001b[36m0:00:00\u001b[0m\n",
            "\u001b[?25hRequirement already satisfied: pytz>=2020.1 in /usr/local/lib/python3.10/dist-packages (from pandas<3.0.0,>=1.0.0->kili) (2023.3.post1)\n",
            "Requirement already satisfied: charset-normalizer<4,>=2 in /usr/local/lib/python3.10/dist-packages (from requests<3.0.0,>=2.0.0->kili) (3.2.0)\n",
            "Requirement already satisfied: idna<4,>=2.5 in /usr/local/lib/python3.10/dist-packages (from requests<3.0.0,>=2.0.0->kili) (3.4)\n",
            "Requirement already satisfied: webencodings in /usr/local/lib/python3.10/dist-packages (from bleach->kaggle) (0.5.1)\n",
            "Requirement already satisfied: MarkupSafe>=2.0 in /usr/local/lib/python3.10/dist-packages (from jinja2->torch) (2.1.3)\n",
            "Requirement already satisfied: text-unidecode>=1.3 in /usr/local/lib/python3.10/dist-packages (from python-slugify->kaggle) (1.3)\n",
            "Requirement already satisfied: mpmath>=0.19 in /usr/local/lib/python3.10/dist-packages (from sympy->torch) (1.3.0)\n",
            "Requirement already satisfied: multidict>=4.0 in /usr/local/lib/python3.10/dist-packages (from yarl<2.0,>=1.6->gql[requests,websockets]<4.0.0,>=3.5.0b5->kili) (6.0.4)\n",
            "Building wheels for collected packages: cuid\n",
            "  Building wheel for cuid (setup.py) ... \u001b[?25l\u001b[?25hdone\n",
            "  Created wheel for cuid: filename=cuid-0.4-py2.py3-none-any.whl size=4713 sha256=fd0bd855029eed50d7e6af892831b7deb79b1fc4e44368ea2f22a3229be00c18\n",
            "  Stored in directory: /root/.cache/pip/wheels/52/0a/dc/a0e28c435d5a74d9eef3d7c3cd147b96cb21e71e5ec7dcfdbe\n",
            "Successfully built cuid\n",
            "Installing collected packages: cuid, websockets, urllib3, typeguard, pyrate-limiter, graphql-core, ffmpeg-python, backoff, gql, requests-toolbelt, kili\n",
            "  Attempting uninstall: urllib3\n",
            "    Found existing installation: urllib3 2.0.4\n",
            "    Uninstalling urllib3-2.0.4:\n",
            "      Successfully uninstalled urllib3-2.0.4\n",
            "Successfully installed backoff-2.2.1 cuid-0.4 ffmpeg-python-0.2.0 gql-3.5.0b5 graphql-core-3.3.0a3 kili-2.146.0 pyrate-limiter-2.10.0 requests-toolbelt-0.10.1 typeguard-2.13.3 urllib3-1.26.16 websockets-11.0.3\n"
          ]
        }
      ],
      "source": [
        "%pip install kili matplotlib numpy Pillow scikit-learn torch torchvision kaggle tqdm"
      ]
    },
    {
      "cell_type": "code",
      "execution_count": 2,
      "metadata": {
        "id": "QFuMchOe3Pc_"
      },
      "outputs": [],
      "source": [
        "import os\n",
        "import random\n",
        "import shutil\n",
        "import zipfile\n",
        "from copy import deepcopy\n",
        "from pathlib import Path\n",
        "\n",
        "import matplotlib.pyplot as plt\n",
        "import numpy as np\n",
        "import sklearn\n",
        "import torch\n",
        "import torch.nn as nn\n",
        "import torch.optim as optim\n",
        "from PIL import Image\n",
        "from sklearn.metrics import classification_report\n",
        "from torchvision import datasets, transforms\n",
        "from tqdm.notebook import tqdm\n",
        "\n",
        "from kili.client import Kili"
      ]
    },
    {
      "cell_type": "markdown",
      "metadata": {
        "id": "Zi9oeycV3PdA"
      },
      "source": [
        "To interact with Kili using the Python SDK, it is necessary to have a Kili account and an API key."
      ]
    },
    {
      "cell_type": "code",
      "execution_count": 6,
      "metadata": {
        "id": "TC3aGzSs3PdA"
      },
      "outputs": [],
      "source": [
        "kili = Kili(\n",
        "     api_endpoint=\"https://cloud.kili-technology.com/api/label/v2/graphql\", api_key = \"2849b466-8f4a-4dbf-894e-0f2208b45973\"\n",
        "    # the line above can be uncommented and changed if you are working with an on-premise version of Kili\n",
        ")"
      ]
    },
    {
      "cell_type": "markdown",
      "metadata": {
        "id": "D_VGYWvc3PdB"
      },
      "source": [
        "## Kili project configuration\n",
        "\n",
        "In this section, we will create a project from scratch with existing labels on Kili.\n",
        "\n",
        "If you want to use your own project, you can simply skip this section and replace the `project_id` variable by your own project ID."
      ]
    },
    {
      "cell_type": "markdown",
      "metadata": {
        "id": "DLBkO7Ji3PdC"
      },
      "source": [
        "### Download assets & create project"
      ]
    },
    {
      "cell_type": "markdown",
      "metadata": {
        "id": "MzQmxieE3PdC"
      },
      "source": [
        "For this tutorial, we will use a real-life image dataset of products created through the process of casting from Kaggle. You can download it from [here](https://www.kaggle.com/datasets/ravirajsinh45/real-life-industrial-dataset-of-casting-product).\n",
        "\n",
        "We will use the Kaggle API to download the dataset."
      ]
    },
    {
      "cell_type": "code",
      "source": [
        "from google.colab import files"
      ],
      "metadata": {
        "id": "irtoEeYq5p6-"
      },
      "execution_count": 8,
      "outputs": []
    },
    {
      "cell_type": "code",
      "source": [
        "files.upload()"
      ],
      "metadata": {
        "id": "_2Z1btZn5sEi",
        "outputId": "4d7af706-faef-436e-f465-74868e191a77",
        "colab": {
          "base_uri": "https://localhost:8080/",
          "height": 92
        }
      },
      "execution_count": 9,
      "outputs": [
        {
          "output_type": "display_data",
          "data": {
            "text/plain": [
              "<IPython.core.display.HTML object>"
            ],
            "text/html": [
              "\n",
              "     <input type=\"file\" id=\"files-4ccb0657-8e20-4df2-8cec-6a4bfafff448\" name=\"files[]\" multiple disabled\n",
              "        style=\"border:none\" />\n",
              "     <output id=\"result-4ccb0657-8e20-4df2-8cec-6a4bfafff448\">\n",
              "      Upload widget is only available when the cell has been executed in the\n",
              "      current browser session. Please rerun this cell to enable.\n",
              "      </output>\n",
              "      <script>// Copyright 2017 Google LLC\n",
              "//\n",
              "// Licensed under the Apache License, Version 2.0 (the \"License\");\n",
              "// you may not use this file except in compliance with the License.\n",
              "// You may obtain a copy of the License at\n",
              "//\n",
              "//      http://www.apache.org/licenses/LICENSE-2.0\n",
              "//\n",
              "// Unless required by applicable law or agreed to in writing, software\n",
              "// distributed under the License is distributed on an \"AS IS\" BASIS,\n",
              "// WITHOUT WARRANTIES OR CONDITIONS OF ANY KIND, either express or implied.\n",
              "// See the License for the specific language governing permissions and\n",
              "// limitations under the License.\n",
              "\n",
              "/**\n",
              " * @fileoverview Helpers for google.colab Python module.\n",
              " */\n",
              "(function(scope) {\n",
              "function span(text, styleAttributes = {}) {\n",
              "  const element = document.createElement('span');\n",
              "  element.textContent = text;\n",
              "  for (const key of Object.keys(styleAttributes)) {\n",
              "    element.style[key] = styleAttributes[key];\n",
              "  }\n",
              "  return element;\n",
              "}\n",
              "\n",
              "// Max number of bytes which will be uploaded at a time.\n",
              "const MAX_PAYLOAD_SIZE = 100 * 1024;\n",
              "\n",
              "function _uploadFiles(inputId, outputId) {\n",
              "  const steps = uploadFilesStep(inputId, outputId);\n",
              "  const outputElement = document.getElementById(outputId);\n",
              "  // Cache steps on the outputElement to make it available for the next call\n",
              "  // to uploadFilesContinue from Python.\n",
              "  outputElement.steps = steps;\n",
              "\n",
              "  return _uploadFilesContinue(outputId);\n",
              "}\n",
              "\n",
              "// This is roughly an async generator (not supported in the browser yet),\n",
              "// where there are multiple asynchronous steps and the Python side is going\n",
              "// to poll for completion of each step.\n",
              "// This uses a Promise to block the python side on completion of each step,\n",
              "// then passes the result of the previous step as the input to the next step.\n",
              "function _uploadFilesContinue(outputId) {\n",
              "  const outputElement = document.getElementById(outputId);\n",
              "  const steps = outputElement.steps;\n",
              "\n",
              "  const next = steps.next(outputElement.lastPromiseValue);\n",
              "  return Promise.resolve(next.value.promise).then((value) => {\n",
              "    // Cache the last promise value to make it available to the next\n",
              "    // step of the generator.\n",
              "    outputElement.lastPromiseValue = value;\n",
              "    return next.value.response;\n",
              "  });\n",
              "}\n",
              "\n",
              "/**\n",
              " * Generator function which is called between each async step of the upload\n",
              " * process.\n",
              " * @param {string} inputId Element ID of the input file picker element.\n",
              " * @param {string} outputId Element ID of the output display.\n",
              " * @return {!Iterable<!Object>} Iterable of next steps.\n",
              " */\n",
              "function* uploadFilesStep(inputId, outputId) {\n",
              "  const inputElement = document.getElementById(inputId);\n",
              "  inputElement.disabled = false;\n",
              "\n",
              "  const outputElement = document.getElementById(outputId);\n",
              "  outputElement.innerHTML = '';\n",
              "\n",
              "  const pickedPromise = new Promise((resolve) => {\n",
              "    inputElement.addEventListener('change', (e) => {\n",
              "      resolve(e.target.files);\n",
              "    });\n",
              "  });\n",
              "\n",
              "  const cancel = document.createElement('button');\n",
              "  inputElement.parentElement.appendChild(cancel);\n",
              "  cancel.textContent = 'Cancel upload';\n",
              "  const cancelPromise = new Promise((resolve) => {\n",
              "    cancel.onclick = () => {\n",
              "      resolve(null);\n",
              "    };\n",
              "  });\n",
              "\n",
              "  // Wait for the user to pick the files.\n",
              "  const files = yield {\n",
              "    promise: Promise.race([pickedPromise, cancelPromise]),\n",
              "    response: {\n",
              "      action: 'starting',\n",
              "    }\n",
              "  };\n",
              "\n",
              "  cancel.remove();\n",
              "\n",
              "  // Disable the input element since further picks are not allowed.\n",
              "  inputElement.disabled = true;\n",
              "\n",
              "  if (!files) {\n",
              "    return {\n",
              "      response: {\n",
              "        action: 'complete',\n",
              "      }\n",
              "    };\n",
              "  }\n",
              "\n",
              "  for (const file of files) {\n",
              "    const li = document.createElement('li');\n",
              "    li.append(span(file.name, {fontWeight: 'bold'}));\n",
              "    li.append(span(\n",
              "        `(${file.type || 'n/a'}) - ${file.size} bytes, ` +\n",
              "        `last modified: ${\n",
              "            file.lastModifiedDate ? file.lastModifiedDate.toLocaleDateString() :\n",
              "                                    'n/a'} - `));\n",
              "    const percent = span('0% done');\n",
              "    li.appendChild(percent);\n",
              "\n",
              "    outputElement.appendChild(li);\n",
              "\n",
              "    const fileDataPromise = new Promise((resolve) => {\n",
              "      const reader = new FileReader();\n",
              "      reader.onload = (e) => {\n",
              "        resolve(e.target.result);\n",
              "      };\n",
              "      reader.readAsArrayBuffer(file);\n",
              "    });\n",
              "    // Wait for the data to be ready.\n",
              "    let fileData = yield {\n",
              "      promise: fileDataPromise,\n",
              "      response: {\n",
              "        action: 'continue',\n",
              "      }\n",
              "    };\n",
              "\n",
              "    // Use a chunked sending to avoid message size limits. See b/62115660.\n",
              "    let position = 0;\n",
              "    do {\n",
              "      const length = Math.min(fileData.byteLength - position, MAX_PAYLOAD_SIZE);\n",
              "      const chunk = new Uint8Array(fileData, position, length);\n",
              "      position += length;\n",
              "\n",
              "      const base64 = btoa(String.fromCharCode.apply(null, chunk));\n",
              "      yield {\n",
              "        response: {\n",
              "          action: 'append',\n",
              "          file: file.name,\n",
              "          data: base64,\n",
              "        },\n",
              "      };\n",
              "\n",
              "      let percentDone = fileData.byteLength === 0 ?\n",
              "          100 :\n",
              "          Math.round((position / fileData.byteLength) * 100);\n",
              "      percent.textContent = `${percentDone}% done`;\n",
              "\n",
              "    } while (position < fileData.byteLength);\n",
              "  }\n",
              "\n",
              "  // All done.\n",
              "  yield {\n",
              "    response: {\n",
              "      action: 'complete',\n",
              "    }\n",
              "  };\n",
              "}\n",
              "\n",
              "scope.google = scope.google || {};\n",
              "scope.google.colab = scope.google.colab || {};\n",
              "scope.google.colab._files = {\n",
              "  _uploadFiles,\n",
              "  _uploadFilesContinue,\n",
              "};\n",
              "})(self);\n",
              "</script> "
            ]
          },
          "metadata": {}
        },
        {
          "output_type": "stream",
          "name": "stdout",
          "text": [
            "Saving kaggle.json to kaggle.json\n"
          ]
        },
        {
          "output_type": "execute_result",
          "data": {
            "text/plain": [
              "{'kaggle.json': b'{\"username\":\"kushalps\",\"key\":\"df0dfac2ed140f4df36709118fc4b900\"}'}"
            ]
          },
          "metadata": {},
          "execution_count": 9
        }
      ]
    },
    {
      "cell_type": "code",
      "source": [
        "\n",
        "!rm .json /root/.kaggle"
      ],
      "metadata": {
        "id": "WMdwF5YI58CJ"
      },
      "execution_count": 23,
      "outputs": []
    },
    {
      "cell_type": "code",
      "execution_count": 14,
      "metadata": {
        "id": "-jaFoU7H3PdC",
        "outputId": "57b60dbe-25c9-49df-e507-083c962e59be",
        "colab": {
          "base_uri": "https://localhost:8080/",
          "height": 247
        }
      },
      "outputs": [
        {
          "output_type": "error",
          "ename": "AttributeError",
          "evalue": "ignored",
          "traceback": [
            "\u001b[0;31m---------------------------------------------------------------------------\u001b[0m",
            "\u001b[0;31mAttributeError\u001b[0m                            Traceback (most recent call last)",
            "\u001b[0;32m<ipython-input-14-da3ddf2ae357>\u001b[0m in \u001b[0;36m<cell line: 3>\u001b[0;34m()\u001b[0m\n\u001b[1;32m      1\u001b[0m \u001b[0mpath_to_kaggle_api_key\u001b[0m \u001b[0;34m=\u001b[0m \u001b[0;34m\"./kaggle.json\"\u001b[0m\u001b[0;34m\u001b[0m\u001b[0;34m\u001b[0m\u001b[0m\n\u001b[1;32m      2\u001b[0m \u001b[0;34m\u001b[0m\u001b[0m\n\u001b[0;32m----> 3\u001b[0;31m \u001b[0;32mif\u001b[0m \u001b[0;32mnot\u001b[0m \u001b[0mpath_to_kaggle_api_key\u001b[0m\u001b[0;34m.\u001b[0m\u001b[0mis_file\u001b[0m\u001b[0;34m(\u001b[0m\u001b[0;34m)\u001b[0m\u001b[0;34m:\u001b[0m\u001b[0;34m\u001b[0m\u001b[0;34m\u001b[0m\u001b[0m\n\u001b[0m\u001b[1;32m      4\u001b[0m     \u001b[0mjson_key_str\u001b[0m \u001b[0;34m=\u001b[0m \u001b[0mgetpass\u001b[0m\u001b[0;34m.\u001b[0m\u001b[0mgetpass\u001b[0m\u001b[0;34m(\u001b[0m\u001b[0;34m\"Enter your kaggle json api key: \"\u001b[0m\u001b[0;34m)\u001b[0m\u001b[0;34m\u001b[0m\u001b[0;34m\u001b[0m\u001b[0m\n\u001b[1;32m      5\u001b[0m     \u001b[0mpath_to_kaggle_api_key\u001b[0m\u001b[0;34m.\u001b[0m\u001b[0mparent\u001b[0m\u001b[0;34m.\u001b[0m\u001b[0mmkdir\u001b[0m\u001b[0;34m(\u001b[0m\u001b[0mparents\u001b[0m\u001b[0;34m=\u001b[0m\u001b[0;32mTrue\u001b[0m\u001b[0;34m,\u001b[0m \u001b[0mexist_ok\u001b[0m\u001b[0;34m=\u001b[0m\u001b[0;32mTrue\u001b[0m\u001b[0;34m)\u001b[0m\u001b[0;34m\u001b[0m\u001b[0;34m\u001b[0m\u001b[0m\n",
            "\u001b[0;31mAttributeError\u001b[0m: 'str' object has no attribute 'is_file'"
          ]
        }
      ],
      "source": [
        "path_to_kaggle_api_key = Path.home() / \"kaggle.json\"\n",
        "\n",
        "if not path_to_kaggle_api_key.is_file():\n",
        "    json_key_str = getpass.getpass(\"Enter your kaggle json api key: \")\n",
        "    path_to_kaggle_api_key.parent.mkdir(parents=True, exist_ok=True)\n",
        "    path_to_kaggle_api_key.write_text(json_key_str)"
      ]
    },
    {
      "cell_type": "code",
      "execution_count": 24,
      "metadata": {
        "id": "gqHV074H3PdD",
        "outputId": "c1a0aaf3-841a-4108-c6f2-4df3b0b46980",
        "colab": {
          "base_uri": "https://localhost:8080/"
        }
      },
      "outputs": [
        {
          "output_type": "stream",
          "name": "stdout",
          "text": [
            "Warning: Your Kaggle API key is readable by other users on this system! To fix this, you can run 'chmod 600 /root/.kaggle/kaggle.json'\n",
            "Downloading real-life-industrial-dataset-of-casting-product.zip to /content\n",
            " 92% 92.0M/100M [00:01<00:00, 82.5MB/s]\n",
            "100% 100M/100M [00:01<00:00, 80.0MB/s] \n"
          ]
        }
      ],
      "source": [
        "!kaggle datasets download -d ravirajsinh45/real-life-industrial-dataset-of-casting-product"
      ]
    },
    {
      "cell_type": "code",
      "source": [],
      "metadata": {
        "id": "P3Yy3P4s56Qz"
      },
      "execution_count": null,
      "outputs": []
    },
    {
      "cell_type": "markdown",
      "metadata": {
        "id": "lVoSWNxJ3PdD"
      },
      "source": [
        "Once the .zip file is downloaded, we can unzip it and discover the structure of the dataset:"
      ]
    },
    {
      "cell_type": "code",
      "execution_count": 25,
      "metadata": {
        "id": "eifAVfYD3PdD"
      },
      "outputs": [],
      "source": [
        "with zipfile.ZipFile(\"real-life-industrial-dataset-of-casting-product.zip\", \"r\") as zip_ref:\n",
        "    zip_ref.extractall(\".\")"
      ]
    },
    {
      "cell_type": "markdown",
      "metadata": {
        "id": "n40xhzwK3PdD"
      },
      "source": [
        "We can see that the dataset has two classes of images: `ok_front` and `def_front`. `ok_front` images are images of products without defects, and `def_front` images are images of products with defects."
      ]
    },
    {
      "cell_type": "code",
      "execution_count": 26,
      "metadata": {
        "id": "5JpvL9963PdE",
        "outputId": "a85be147-3371-47bb-c752-84a741cf5430",
        "colab": {
          "base_uri": "https://localhost:8080/"
        }
      },
      "outputs": [
        {
          "output_type": "stream",
          "name": "stdout",
          "text": [
            "['def_front', 'ok_front']\n",
            "781\n",
            "519\n"
          ]
        }
      ],
      "source": [
        "data_dir = Path(\".\") / \"casting_512x512\" / \"casting_512x512\"\n",
        "print(os.listdir(data_dir))\n",
        "print(len(os.listdir(data_dir / \"def_front\")))\n",
        "print(len(os.listdir(data_dir / \"ok_front\")))"
      ]
    },
    {
      "cell_type": "markdown",
      "metadata": {
        "id": "8yaX9Tzp3PdE"
      },
      "source": [
        "The `ok_front` class has 519 images, and the `def_front` class has 781 images."
      ]
    },
    {
      "cell_type": "markdown",
      "metadata": {
        "id": "riUwsRT03PdE"
      },
      "source": [
        "Let's take a look at the images:"
      ]
    },
    {
      "cell_type": "code",
      "execution_count": 27,
      "metadata": {
        "id": "LX1VrT6K3PdE",
        "outputId": "f580ab47-c643-4f26-d753-b17c4e31b032",
        "colab": {
          "base_uri": "https://localhost:8080/",
          "height": 435
        }
      },
      "outputs": [
        {
          "output_type": "display_data",
          "data": {
            "text/plain": [
              "<Figure size 640x480 with 1 Axes>"
            ],
            "image/png": "[encoded data removed]"
          },
          "metadata": {}
        }
      ],
      "source": [
        "plt.imshow(Image.open(next((data_dir / \"def_front\").iterdir())))\n",
        "plt.show()"
      ]
    },
    {
      "cell_type": "code",
      "execution_count": 28,
      "metadata": {
        "id": "nGWEOo6N3PdE",
        "outputId": "1b1d4cbc-f70a-49f0-d3da-a0e430b3b0d6",
        "colab": {
          "base_uri": "https://localhost:8080/",
          "height": 435
        }
      },
      "outputs": [
        {
          "output_type": "display_data",
          "data": {
            "text/plain": [
              "<Figure size 640x480 with 1 Axes>"
            ],
            "image/png": "[encoded data removed]"
          },
          "metadata": {}
        }
      ],
      "source": [
        "plt.imshow(Image.open(next((data_dir / \"ok_front\").iterdir())))\n",
        "plt.show()"
      ]
    },
    {
      "cell_type": "markdown",
      "metadata": {
        "id": "V7c2jfV_3PdF"
      },
      "source": [
        "We can balance the dataset and keep only `N` images in total:"
      ]
    },
    {
      "cell_type": "code",
      "execution_count": 29,
      "metadata": {
        "id": "hHb2kgvY3PdF"
      },
      "outputs": [],
      "source": [
        "N = 400\n",
        "\n",
        "for class_name in [\"def_front\", \"ok_front\"]:\n",
        "    filepaths_to_delete = sorted(os.listdir(data_dir / class_name))[N // 2 :]\n",
        "    for filepath in filepaths_to_delete:\n",
        "        (data_dir / class_name / filepath).unlink(missing_ok=True)\n",
        "\n",
        "assert len(os.listdir(data_dir / \"def_front\")) == N // 2\n",
        "assert len(os.listdir(data_dir / \"ok_front\")) == N // 2"
      ]
    },
    {
      "cell_type": "markdown",
      "metadata": {
        "id": "U-G9qyRC3PdF"
      },
      "source": [
        "Next, we create the Kili project with its ontology showing the two categories:"
      ]
    },
    {
      "cell_type": "code",
      "execution_count": 30,
      "metadata": {
        "id": "Pczz0jF63PdG"
      },
      "outputs": [],
      "source": [
        "project_title = \"[Kili SDK Notebook]: Demo - DINOv2 Classification\"\n",
        "\n",
        "json_interface = {\n",
        "    \"jobs\": {\n",
        "        \"CLASSIFICATION_JOB\": {\n",
        "            \"content\": {\n",
        "                \"categories\": {\n",
        "                    \"YES\": {\"children\": [], \"name\": \"Yes\", \"id\": \"category1\"},\n",
        "                    \"NO\": {\"children\": [], \"name\": \"No\", \"id\": \"category2\"},\n",
        "                },\n",
        "                \"input\": \"radio\",\n",
        "            },\n",
        "            \"instruction\": \"Defect(s) in image?\",\n",
        "            \"mlTask\": \"CLASSIFICATION\",\n",
        "            \"required\": 1,\n",
        "            \"isChild\": False,\n",
        "            \"isNew\": False,\n",
        "        }\n",
        "    }\n",
        "}\n",
        "\n",
        "project_id = kili.create_project(\n",
        "    title=project_title, json_interface=json_interface, input_type=\"IMAGE\"\n",
        ")[\"id\"]"
      ]
    },
    {
      "cell_type": "markdown",
      "metadata": {
        "id": "RRafReH73PdH"
      },
      "source": [
        "We can then prepare the assets to be uploaded to Kili:"
      ]
    },
    {
      "cell_type": "code",
      "execution_count": 31,
      "metadata": {
        "id": "TsrEF2bN3PdH",
        "outputId": "cf19d0da-5158-43ea-f1c6-66335052f015",
        "colab": {
          "base_uri": "https://localhost:8080/"
        }
      },
      "outputs": [
        {
          "output_type": "stream",
          "name": "stdout",
          "text": [
            "casting_512x512/casting_512x512/def_front/cast_def_0_1772.jpeg\n"
          ]
        }
      ],
      "source": [
        "# sort the assets by alternating between classes so that both\n",
        "# classes show up in the first page of the labeling interface\n",
        "content_array = []\n",
        "iterator = zip((data_dir / \"def_front\").iterdir(), (data_dir / \"ok_front\").iterdir())\n",
        "for filepath_def, filepath_ok in iterator:\n",
        "    content_array.append(filepath_def)\n",
        "    content_array.append(filepath_ok)\n",
        "print(content_array[0])"
      ]
    },
    {
      "cell_type": "markdown",
      "metadata": {
        "id": "nz10bLlF3PdH"
      },
      "source": [
        "The external ID of each asset is the name of the image displayed in the Kili interface:"
      ]
    },
    {
      "cell_type": "code",
      "execution_count": 32,
      "metadata": {
        "id": "j_znHIAL3PdH",
        "outputId": "969c1bf4-da4f-4af3-ce10-40e3c049129d",
        "colab": {
          "base_uri": "https://localhost:8080/"
        }
      },
      "outputs": [
        {
          "output_type": "stream",
          "name": "stdout",
          "text": [
            "1772_d\n"
          ]
        }
      ],
      "source": [
        "external_id_array = []\n",
        "for filepath in content_array:\n",
        "    class_ = \"def\" if \"_def_\" in filepath.name else \"ok\"\n",
        "    external_id = filepath.name.replace(\"cast_ok_0_\", \"\").replace(\"cast_def_0_\", \"\")\n",
        "    external_id = external_id.replace(\".jpeg\", \"_\" + class_[:1])\n",
        "    external_id_array.append(external_id)\n",
        "assert len(set(external_id_array)) == N\n",
        "print(external_id_array[0])"
      ]
    },
    {
      "cell_type": "markdown",
      "metadata": {
        "id": "FvF0ZlTK3PdH"
      },
      "source": [
        "The class of an image is available in the file name. We can extract it and add it to the Kili asset metadata:\n"
      ]
    },
    {
      "cell_type": "code",
      "execution_count": 33,
      "metadata": {
        "id": "Alk4egbU3PdH",
        "outputId": "9d7698a3-c921-4275-c15d-6a6cd4d794ee",
        "colab": {
          "base_uri": "https://localhost:8080/"
        }
      },
      "outputs": [
        {
          "output_type": "stream",
          "name": "stdout",
          "text": [
            "YES\n"
          ]
        }
      ],
      "source": [
        "output_class_array = [\"YES\" if \"def\" in filepath.name else \"NO\" for filepath in content_array]\n",
        "print(output_class_array[0])"
      ]
    },
    {
      "cell_type": "markdown",
      "metadata": {
        "id": "8hDwBr3-3PdH"
      },
      "source": [
        "We input the ground truth in the metadata, this will be useful later on:"
      ]
    },
    {
      "cell_type": "code",
      "execution_count": 34,
      "metadata": {
        "id": "kePU4Lvo3PdH",
        "outputId": "3426fb4b-ec99-459b-9d22-58224573c41b",
        "colab": {
          "base_uri": "https://localhost:8080/"
        }
      },
      "outputs": [
        {
          "output_type": "stream",
          "name": "stdout",
          "text": [
            "{'Ground Truth': 'YES'}\n"
          ]
        }
      ],
      "source": [
        "json_metadata_array = [{\"Ground Truth\": output_class} for output_class in output_class_array]\n",
        "print(json_metadata_array[0])"
      ]
    },
    {
      "cell_type": "markdown",
      "metadata": {
        "id": "fHwVY_TA3PdI"
      },
      "source": [
        "We now upload the assets to our Kili project:"
      ]
    },
    {
      "cell_type": "code",
      "execution_count": 35,
      "metadata": {
        "id": "bv3E3Z9S3PdI",
        "outputId": "5148726e-03db-4595-87f5-5515d307e294",
        "colab": {
          "base_uri": "https://localhost:8080/"
        }
      },
      "outputs": [
        {
          "output_type": "execute_result",
          "data": {
            "text/plain": [
              "{'id': 'clmnnrkas671l087n9tyre1md',\n",
              " 'asset_ids': ['clmnns8wb00006wnymazqo6tv',\n",
              "  'clmnns8wb00016wny7b0hh58r',\n",
              "  'clmnns8wb00026wnyrfayqjzg',\n",
              "  'clmnns8wb00036wnyn7nongpe',\n",
              "  'clmnns8wb00046wnyhktkc2y2',\n",
              "  'clmnns8wb00056wnyc70o1016',\n",
              "  'clmnns8wb00066wnypiixa25c',\n",
              "  'clmnns8wb00076wny65todgk6',\n",
              "  'clmnns8wb00086wnyflrm21pi',\n",
              "  'clmnns8wb00096wnyi4ict7rs',\n",
              "  'clmnns8wb000a6wnyuxjjhxjl',\n",
              "  'clmnns8wb000b6wnytpjgj825',\n",
              "  'clmnns8wb000c6wny8amzuq8i',\n",
              "  'clmnns8wb000d6wnys59hn78h',\n",
              "  'clmnns8wb000e6wnyynq5bv10',\n",
              "  'clmnns8wb000f6wnyf6ukwonl',\n",
              "  'clmnns8wc000g6wny88qip8ll',\n",
              "  'clmnns8wc000h6wny0r78rk1d',\n",
              "  'clmnns8wc000i6wnyw3n87jz7',\n",
              "  'clmnns8wc000j6wnysyz6c7zs',\n",
              "  'clmnns8wc000k6wnymjaj7n9c',\n",
              "  'clmnns8wc000l6wnyyrhg1kfb',\n",
              "  'clmnns8wc000m6wnyy76036q2',\n",
              "  'clmnns8wc000n6wny0qlgz4hv',\n",
              "  'clmnns8wc000o6wnynuvjyaog',\n",
              "  'clmnns8wc000p6wny0uvx8qlh',\n",
              "  'clmnns8wc000q6wnybbbrmt8x',\n",
              "  'clmnns8wc000r6wnyyztwa2h2',\n",
              "  'clmnns8wc000s6wnyajqj38ac',\n",
              "  'clmnns8wc000t6wnymkehisnt',\n",
              "  'clmnns8wc000u6wnyos5q5xqp',\n",
              "  'clmnns8wc000v6wnyexmu0p7b',\n",
              "  'clmnns8wc000w6wny4f7kxbhy',\n",
              "  'clmnns8wc000x6wnyxl3ezv5e',\n",
              "  'clmnns8wc000y6wny65b71xsj',\n",
              "  'clmnns8wc000z6wnymicy3r8q',\n",
              "  'clmnns8wc00106wnyyckn8yv9',\n",
              "  'clmnns8wc00116wnybcr6jwka',\n",
              "  'clmnns8wc00126wnypep2tson',\n",
              "  'clmnns8wc00136wny63rjrmi5',\n",
              "  'clmnns8wc00146wnywmkiqido',\n",
              "  'clmnns8wc00156wnypg6p5q71',\n",
              "  'clmnns8wc00166wnya6m6cc0e',\n",
              "  'clmnns8wc00176wny1s2ut211',\n",
              "  'clmnns8wc00186wnykn0x444z',\n",
              "  'clmnns8wc00196wnyejhdgn8n',\n",
              "  'clmnns8wc001a6wnyvxkhntt4',\n",
              "  'clmnns8wc001b6wnydgjuoekt',\n",
              "  'clmnns8wc001c6wnyfl2pcll1',\n",
              "  'clmnns8wc001d6wnyooedt5t9',\n",
              "  'clmnns8wc001e6wnyvimlvf7i',\n",
              "  'clmnns8wc001f6wnyqn40hxa1',\n",
              "  'clmnns8wc001g6wny8eccbwkv',\n",
              "  'clmnns8wc001h6wnypzk1s71z',\n",
              "  'clmnns8wc001i6wnyhrafhmrc',\n",
              "  'clmnns8wc001j6wnygch3imw5',\n",
              "  'clmnns8wc001k6wny8cbvfntb',\n",
              "  'clmnns8wc001l6wny2b9tsddg',\n",
              "  'clmnns8wc001m6wnyhqw4xqdy',\n",
              "  'clmnns8wc001n6wnyqwyv8rdo',\n",
              "  'clmnns8wc001o6wny4trb2g5h',\n",
              "  'clmnns8wc001p6wnyixdi4bx0',\n",
              "  'clmnns8wc001q6wnywbz996f8',\n",
              "  'clmnns8wc001r6wnytqh55nbd',\n",
              "  'clmnns8wc001s6wny2ucd6x8a',\n",
              "  'clmnns8wc001t6wnymhltvwaj',\n",
              "  'clmnns8wc001u6wnymbwfek9n',\n",
              "  'clmnns8wc001v6wnype4y09sl',\n",
              "  'clmnns8wc001w6wnyx2cqfvg6',\n",
              "  'clmnns8wc001x6wnyv72x9hrv',\n",
              "  'clmnns8wc001y6wny3il10qxu',\n",
              "  'clmnns8wc001z6wnyflgpqxvx',\n",
              "  'clmnns8wc00206wnypdntncti',\n",
              "  'clmnns8wc00216wny65bmeyav',\n",
              "  'clmnns8wc00226wnys7zx0mcf',\n",
              "  'clmnns8wc00236wnyxxa55ggh',\n",
              "  'clmnns8wc00246wnytoeowhh5',\n",
              "  'clmnns8wc00256wnyute4upi9',\n",
              "  'clmnns8wc00266wnyp0hrbwgi',\n",
              "  'clmnns8wc00276wnyft99q6ci',\n",
              "  'clmnns8wc00286wnyxbt3qg0v',\n",
              "  'clmnns8wc00296wnyjjbcgkh8',\n",
              "  'clmnns8wc002a6wny86rvrelm',\n",
              "  'clmnns8wc002b6wny0a9lb1eh',\n",
              "  'clmnns8wc002c6wnygzgxdhez',\n",
              "  'clmnns8wc002d6wnyb9z1x1w3',\n",
              "  'clmnns8wc002e6wnywvfgy7ku',\n",
              "  'clmnns8wc002f6wnyjfu8xlh2',\n",
              "  'clmnns8wc002g6wny6mwd086r',\n",
              "  'clmnns8wc002h6wny9i8bbwxd',\n",
              "  'clmnns8wc002i6wnyi1xo2poe',\n",
              "  'clmnns8wc002j6wny2f7635fz',\n",
              "  'clmnns8wc002k6wny0pp6821q',\n",
              "  'clmnns8wc002l6wny00eketcd',\n",
              "  'clmnns8wc002m6wnyed3kqf6n',\n",
              "  'clmnns8wc002n6wny2k7kz97p',\n",
              "  'clmnns8wc002o6wny9iegd2jb',\n",
              "  'clmnns8wc002p6wny0b3fur1c',\n",
              "  'clmnns8wc002q6wnyp4hy9fjv',\n",
              "  'clmnns8wc002r6wny57qzdh2g',\n",
              "  'clmnnsi6b005k6wnyoxsqs112',\n",
              "  'clmnnsi6b005l6wnygy76fipa',\n",
              "  'clmnnsi6b005m6wnyigwe16qz',\n",
              "  'clmnnsi6b005n6wny66cl2lxk',\n",
              "  'clmnnsi6b005o6wnyv0ppvp9x',\n",
              "  'clmnnsi6b005p6wnyms7uqx04',\n",
              "  'clmnnsi6b005q6wnyi8py26wy',\n",
              "  'clmnnsi6b005r6wnyhk6x6zl6',\n",
              "  'clmnnsi6b005s6wny5prjj2xd',\n",
              "  'clmnnsi6b005t6wnybxu4f7bh',\n",
              "  'clmnnsi6b005u6wny1tkb4c19',\n",
              "  'clmnnsi6b005v6wnyiefbmkhz',\n",
              "  'clmnnsi6b005w6wnypu1ym7p9',\n",
              "  'clmnnsi6b005x6wnyc0q8ni67',\n",
              "  'clmnnsi6b005y6wny4p4nozqw',\n",
              "  'clmnnsi6b005z6wny2b1j5p2p',\n",
              "  'clmnnsi6b00606wny6mqevb6o',\n",
              "  'clmnnsi6b00616wny0sso4uzy',\n",
              "  'clmnnsi6b00626wnyagrmif97',\n",
              "  'clmnnsi6b00636wnykf7a8i4z',\n",
              "  'clmnnsi6b00646wnye4juhhrs',\n",
              "  'clmnnsi6b00656wnyzhz0181v',\n",
              "  'clmnnsi6b00666wny7te9e6pu',\n",
              "  'clmnnsi6b00676wnytn44mm7o',\n",
              "  'clmnnsi6b00686wnyr454dff1',\n",
              "  'clmnnsi6b00696wnyk0k1wzpt',\n",
              "  'clmnnsi6b006a6wny5c94pu9o',\n",
              "  'clmnnsi6b006b6wny4ls1jthx',\n",
              "  'clmnnsi6b006c6wnyfkhz2vhs',\n",
              "  'clmnnsi6b006d6wnywokmvl3p',\n",
              "  'clmnnsi6b006e6wnyj1kux121',\n",
              "  'clmnnsi6b006f6wnyzw6hze61',\n",
              "  'clmnnsi6b006g6wny3tweek9e',\n",
              "  'clmnnsi6b006h6wny74973dkv',\n",
              "  'clmnnsi6b006i6wnyofjzkx8c',\n",
              "  'clmnnsi6b006j6wnyybkw3xgz',\n",
              "  'clmnnsi6b006k6wnyy0sqi0nj',\n",
              "  'clmnnsi6b006l6wny9bqzyhmh',\n",
              "  'clmnnsi6b006m6wnyjotvnymc',\n",
              "  'clmnnsi6b006n6wnyza4uura9',\n",
              "  'clmnnsi6b006o6wny3u6nmjb5',\n",
              "  'clmnnsi6c006p6wnyzp1ngyeu',\n",
              "  'clmnnsi6c006q6wny4xcf5nw1',\n",
              "  'clmnnsi6c006r6wnyeh2om03j',\n",
              "  'clmnnsi6c006s6wnyoyl1f4ve',\n",
              "  'clmnnsi6c006t6wny9e2md8mt',\n",
              "  'clmnnsi6c006u6wny7317k0aa',\n",
              "  'clmnnsi6c006v6wnymvmifweb',\n",
              "  'clmnnsi6c006w6wnyqj7klkqo',\n",
              "  'clmnnsi6c006x6wnym9l6qxf0',\n",
              "  'clmnnsi6c006y6wnyt0qtx1ja',\n",
              "  'clmnnsi6c006z6wnycmosi0l8',\n",
              "  'clmnnsi6c00706wnye9aw0ml5',\n",
              "  'clmnnsi6c00716wnyue2mubh8',\n",
              "  'clmnnsi6c00726wnysz3gbyph',\n",
              "  'clmnnsi6c00736wnyxm8jv18v',\n",
              "  'clmnnsi6c00746wny9hwm2kpr',\n",
              "  'clmnnsi6c00756wnypun0lkbz',\n",
              "  'clmnnsi6c00766wny1h5aq1tf',\n",
              "  'clmnnsi6c00776wnytzahumml',\n",
              "  'clmnnsi6c00786wny8rdd4ygh',\n",
              "  'clmnnsi6c00796wnyvr6z23tm',\n",
              "  'clmnnsi6c007a6wnyjovbj1zv',\n",
              "  'clmnnsi6c007b6wnyiq36vnul',\n",
              "  'clmnnsi6c007c6wnypo2jrv4q',\n",
              "  'clmnnsi6c007d6wnynxwcl74r',\n",
              "  'clmnnsi6c007e6wnyqngih3ua',\n",
              "  'clmnnsi6c007f6wnyiz5av4lu',\n",
              "  'clmnnsi6c007g6wnyacxej9t8',\n",
              "  'clmnnsi6c007h6wnyz59bsllt',\n",
              "  'clmnnsi6c007i6wnyegfeywz9',\n",
              "  'clmnnsi6c007j6wnyw3945qfc',\n",
              "  'clmnnsi6c007k6wny7vkqtt67',\n",
              "  'clmnnsi6c007l6wnykjejgx6n',\n",
              "  'clmnnsi6c007m6wnykv22qrhr',\n",
              "  'clmnnsi6c007n6wnyyor62mp5',\n",
              "  'clmnnsi6c007o6wnytqtjtnxc',\n",
              "  'clmnnsi6c007p6wnyxck1l2x2',\n",
              "  'clmnnsi6c007q6wnyf4updvj2',\n",
              "  'clmnnsi6c007r6wny4rhdg5do',\n",
              "  'clmnnsi6c007s6wnyucmy2pl2',\n",
              "  'clmnnsi6c007t6wny9j3dozwl',\n",
              "  'clmnnsi6c007u6wnyb6x76g1p',\n",
              "  'clmnnsi6c007v6wnyi231due0',\n",
              "  'clmnnsi6c007w6wnyamx0e65u',\n",
              "  'clmnnsi6c007x6wnyg523zthk',\n",
              "  'clmnnsi6c007y6wny6s5n8ncs',\n",
              "  'clmnnsi6c007z6wnyg11ue27e',\n",
              "  'clmnnsi6c00806wnypyocc0px',\n",
              "  'clmnnsi6c00816wnymgc05k97',\n",
              "  'clmnnsi6c00826wnyypith9gx',\n",
              "  'clmnnsi6c00836wnypa57q9eh',\n",
              "  'clmnnsi6c00846wnyncjznckj',\n",
              "  'clmnnsi6c00856wnyhz60nwqk',\n",
              "  'clmnnsi6c00866wnyg1it7biv',\n",
              "  'clmnnsi6c00876wnyxwl1mm41',\n",
              "  'clmnnsi6c00886wny7suk9zip',\n",
              "  'clmnnsi6c00896wnymtzoly08',\n",
              "  'clmnnsi6c008a6wny2xv6s9he',\n",
              "  'clmnnsi6c008b6wnygdsx9mmi',\n",
              "  'clmnnspmt00b46wnyj73798f7',\n",
              "  'clmnnspmt00b56wnye6d5tsgt',\n",
              "  'clmnnspmt00b66wny0srtru2y',\n",
              "  'clmnnspmt00b76wnyqtotdhit',\n",
              "  'clmnnspmt00b86wnyrqx92es2',\n",
              "  'clmnnspmt00b96wnyj4jmzxsc',\n",
              "  'clmnnspmt00ba6wnyww2xm64l',\n",
              "  'clmnnspmt00bb6wny6as2v4lr',\n",
              "  'clmnnspmt00bc6wny7bsx92ch',\n",
              "  'clmnnspmt00bd6wnyfa2fctc0',\n",
              "  'clmnnspmt00be6wnyvui0zobj',\n",
              "  'clmnnspmt00bf6wnyki4shuil',\n",
              "  'clmnnspmt00bg6wnylkoeqgrs',\n",
              "  'clmnnspmt00bh6wnymduy1xt0',\n",
              "  'clmnnspmt00bi6wnylzp9ufdy',\n",
              "  'clmnnspmt00bj6wnyye2a1y0m',\n",
              "  'clmnnspmt00bk6wnyh1juym1f',\n",
              "  'clmnnspmt00bl6wnyrhxs4dw0',\n",
              "  'clmnnspmt00bm6wnyohus6bik',\n",
              "  'clmnnspmt00bn6wnyya5dllo5',\n",
              "  'clmnnspmt00bo6wnyph3tk713',\n",
              "  'clmnnspmt00bp6wnyeijwz9m3',\n",
              "  'clmnnspmt00bq6wnyy8hkvmpi',\n",
              "  'clmnnspmt00br6wny2tbnh4x9',\n",
              "  'clmnnspmt00bs6wnykwv1hbzl',\n",
              "  'clmnnspmt00bt6wnya860ouol',\n",
              "  'clmnnspmt00bu6wny57wr5gbb',\n",
              "  'clmnnspmt00bv6wnyfegiy9o0',\n",
              "  'clmnnspmt00bw6wnyvvovze82',\n",
              "  'clmnnspmt00bx6wnyc3qlkuge',\n",
              "  'clmnnspmt00by6wny952iyqut',\n",
              "  'clmnnspmu00bz6wny28y2aqre',\n",
              "  'clmnnspmu00c06wny35ruw61l',\n",
              "  'clmnnspmu00c16wny08asrh5v',\n",
              "  'clmnnspmu00c26wnyxp3ehdsr',\n",
              "  'clmnnspmu00c36wnybdoba5hg',\n",
              "  'clmnnspmu00c46wnyo0u228u3',\n",
              "  'clmnnspmu00c56wnyxohe9fam',\n",
              "  'clmnnspmu00c66wnyzmbgbm6c',\n",
              "  'clmnnspmu00c76wny01ck3ud9',\n",
              "  'clmnnspmu00c86wnyribzfown',\n",
              "  'clmnnspmu00c96wnyarcoib0t',\n",
              "  'clmnnspmu00ca6wny3s8l295d',\n",
              "  'clmnnspmu00cb6wnyeyuoblfb',\n",
              "  'clmnnspmu00cc6wnykbiu1802',\n",
              "  'clmnnspmu00cd6wnygkuwlpsd',\n",
              "  'clmnnspmu00ce6wny4z5gx9ov',\n",
              "  'clmnnspmu00cf6wnyiyarwfzl',\n",
              "  'clmnnspmu00cg6wnyjh8gs9uk',\n",
              "  'clmnnspmu00ch6wny9bi9zjzv',\n",
              "  'clmnnspmu00ci6wny8t3gkhr8',\n",
              "  'clmnnspmu00cj6wnydpu5aiug',\n",
              "  'clmnnspmu00ck6wnyl4iium9w',\n",
              "  'clmnnspmu00cl6wny6ohgdj5q',\n",
              "  'clmnnspmu00cm6wnyjtc6xf50',\n",
              "  'clmnnspmu00cn6wnyuk2ug7lm',\n",
              "  'clmnnspmu00co6wnyfmjdozfp',\n",
              "  'clmnnspmu00cp6wnyo127povf',\n",
              "  'clmnnspmu00cq6wnynxgkl4ya',\n",
              "  'clmnnspmu00cr6wny192u6qvn',\n",
              "  'clmnnspmu00cs6wnyjkgby7ls',\n",
              "  'clmnnspmu00ct6wnynblcumo2',\n",
              "  'clmnnspmu00cu6wnysw322thv',\n",
              "  'clmnnspmu00cv6wnydhcwu0i3',\n",
              "  'clmnnspmu00cw6wnyprjtuesa',\n",
              "  'clmnnspmu00cx6wnyxihq0is5',\n",
              "  'clmnnspmu00cy6wnyikxurj3w',\n",
              "  'clmnnspmu00cz6wny98tui5fs',\n",
              "  'clmnnspmu00d06wnyf9ap53r1',\n",
              "  'clmnnspmu00d16wnygx0sfkkr',\n",
              "  'clmnnspmu00d26wny62mhlnmj',\n",
              "  'clmnnspmu00d36wny5h225lqv',\n",
              "  'clmnnspmu00d46wnyeqy689l7',\n",
              "  'clmnnspmu00d56wnyhofddm6e',\n",
              "  'clmnnspmu00d66wnyz9o1q1b9',\n",
              "  'clmnnspmu00d76wnyg11zz8zo',\n",
              "  'clmnnspmu00d86wnyyjxm99jv',\n",
              "  'clmnnspmu00d96wnyhxlzrh02',\n",
              "  'clmnnspmu00da6wnyvhsnivxm',\n",
              "  'clmnnspmu00db6wnyltrz9a5r',\n",
              "  'clmnnspmu00dc6wnylz9z67ab',\n",
              "  'clmnnspmu00dd6wny8tjrtxzo',\n",
              "  'clmnnspmu00de6wnyly5t2vm9',\n",
              "  'clmnnspmu00df6wnyi3mwfd8t',\n",
              "  'clmnnspmu00dg6wny0a8r61xj',\n",
              "  'clmnnspmu00dh6wnyscimfqoh',\n",
              "  'clmnnspmu00di6wnyz1ao7jxr',\n",
              "  'clmnnspmu00dj6wnybk1axya2',\n",
              "  'clmnnspmu00dk6wnyast8a2p7',\n",
              "  'clmnnspmu00dl6wnyregdj9by',\n",
              "  'clmnnspmu00dm6wnyh0g3vmlt',\n",
              "  'clmnnspmu00dn6wny4dqo3ahc',\n",
              "  'clmnnspmu00do6wnyo3hxn21w',\n",
              "  'clmnnspmu00dp6wny37k51w21',\n",
              "  'clmnnspmu00dq6wnynwx81qna',\n",
              "  'clmnnspmu00dr6wny39u41m6r',\n",
              "  'clmnnspmu00ds6wnyv878xujp',\n",
              "  'clmnnspmu00dt6wnyk1bkeos5',\n",
              "  'clmnnspmu00du6wny3gyers6z',\n",
              "  'clmnnspmu00dv6wnye27sadt6',\n",
              "  'clmnnswep00go6wny5887nt2t',\n",
              "  'clmnnswep00gp6wnyo1r6qpwr',\n",
              "  'clmnnswep00gq6wnyvbao40gl',\n",
              "  'clmnnswep00gr6wnyhwi5r8zo',\n",
              "  'clmnnswep00gs6wny739v266r',\n",
              "  'clmnnswep00gt6wny9s9tnvxj',\n",
              "  'clmnnswep00gu6wny1f7afdo4',\n",
              "  'clmnnswep00gv6wny2taf1hci',\n",
              "  'clmnnswep00gw6wnyexfqbcp0',\n",
              "  'clmnnswep00gx6wnyuw9ful20',\n",
              "  'clmnnswep00gy6wnyuto1tfhs',\n",
              "  'clmnnsweq00gz6wnyh8n1wwfq',\n",
              "  'clmnnsweq00h06wny0ys3lgtm',\n",
              "  'clmnnsweq00h16wny2ik3sjtj',\n",
              "  'clmnnsweq00h26wny9cbk893m',\n",
              "  'clmnnsweq00h36wnycx47lu17',\n",
              "  'clmnnsweq00h46wnywcvn061l',\n",
              "  'clmnnsweq00h56wny6f2yqdcw',\n",
              "  'clmnnsweq00h66wny0eusf44i',\n",
              "  'clmnnsweq00h76wnysgbbu69l',\n",
              "  'clmnnsweq00h86wnyxol2z5dl',\n",
              "  'clmnnsweq00h96wnyf080khn9',\n",
              "  'clmnnsweq00ha6wnyzmh2zz7o',\n",
              "  'clmnnsweq00hb6wny5cg83xur',\n",
              "  'clmnnsweq00hc6wnyti2hjtvl',\n",
              "  'clmnnsweq00hd6wnyr95043wm',\n",
              "  'clmnnsweq00he6wnyw7r15gkg',\n",
              "  'clmnnsweq00hf6wnyxoe3scpt',\n",
              "  'clmnnsweq00hg6wnyjvkkdzjx',\n",
              "  'clmnnsweq00hh6wnydypttj0o',\n",
              "  'clmnnsweq00hi6wnyana1b9sj',\n",
              "  'clmnnsweq00hj6wnyohdwpf7c',\n",
              "  'clmnnsweq00hk6wnyq0pw4ese',\n",
              "  'clmnnsweq00hl6wnyxyxrjua7',\n",
              "  'clmnnsweq00hm6wnyj0ml8ost',\n",
              "  'clmnnsweq00hn6wnyq50z5gch',\n",
              "  'clmnnsweq00ho6wnyuq78kq70',\n",
              "  'clmnnsweq00hp6wnya4apxr89',\n",
              "  'clmnnsweq00hq6wny0lwz3tv0',\n",
              "  'clmnnsweq00hr6wnysnewsgof',\n",
              "  'clmnnsweq00hs6wnyc4i2hhxf',\n",
              "  'clmnnsweq00ht6wny4ur2v5t7',\n",
              "  'clmnnsweq00hu6wny4y96iwa6',\n",
              "  'clmnnsweq00hv6wnyzkqciktm',\n",
              "  'clmnnsweq00hw6wny5k1n11n5',\n",
              "  'clmnnsweq00hx6wny5426tuwh',\n",
              "  'clmnnsweq00hy6wnyabk213m6',\n",
              "  'clmnnsweq00hz6wnyscf1aw7q',\n",
              "  'clmnnsweq00i06wnykttyqezl',\n",
              "  'clmnnsweq00i16wnyvh2nzkl4',\n",
              "  'clmnnsweq00i26wny696zz1dm',\n",
              "  'clmnnsweq00i36wnyu8mao89n',\n",
              "  'clmnnsweq00i46wnyjppy6shq',\n",
              "  'clmnnsweq00i56wnyf4oyzb2m',\n",
              "  'clmnnsweq00i66wny5rsu8kfg',\n",
              "  'clmnnsweq00i76wnyb9yu0i3s',\n",
              "  'clmnnsweq00i86wnynrxq5p0q',\n",
              "  'clmnnsweq00i96wnyxqv1djkx',\n",
              "  'clmnnsweq00ia6wny9jd88pua',\n",
              "  'clmnnsweq00ib6wnys5g6u12n',\n",
              "  'clmnnsweq00ic6wnyx2oab8fc',\n",
              "  'clmnnsweq00id6wnyp9t9ywx4',\n",
              "  'clmnnsweq00ie6wnypj1mjein',\n",
              "  'clmnnsweq00if6wnyneqzo4s7',\n",
              "  'clmnnsweq00ig6wny8p4iw3mb',\n",
              "  'clmnnsweq00ih6wnyev3k8gia',\n",
              "  'clmnnswer00ii6wnywo8t21cf',\n",
              "  'clmnnswer00ij6wnye0u7o4pi',\n",
              "  'clmnnswer00ik6wny5g21xbyz',\n",
              "  'clmnnswer00il6wnyxz2anefq',\n",
              "  'clmnnswer00im6wny7pxs3e17',\n",
              "  'clmnnswer00in6wnyyusrb7za',\n",
              "  'clmnnswer00io6wnye1rom5om',\n",
              "  'clmnnswer00ip6wnyfuinjuky',\n",
              "  'clmnnswer00iq6wnypiiojgkh',\n",
              "  'clmnnswer00ir6wnya2tdf9ag',\n",
              "  'clmnnswer00is6wny10yjquw1',\n",
              "  'clmnnswer00it6wnys9mwq5xc',\n",
              "  'clmnnswer00iu6wny6rv2779p',\n",
              "  'clmnnswer00iv6wnyhetb87vl',\n",
              "  'clmnnswer00iw6wnynsghwmm1',\n",
              "  'clmnnswer00ix6wny14cvt96v',\n",
              "  'clmnnswer00iy6wnyt8tmsp56',\n",
              "  'clmnnswer00iz6wnyxe4a8zq8',\n",
              "  'clmnnswer00j06wny7tpeqfi6',\n",
              "  'clmnnswer00j16wny1lqgudsz',\n",
              "  'clmnnswer00j26wnymhj7qtll',\n",
              "  'clmnnswer00j36wnye15pc8qd',\n",
              "  'clmnnswer00j46wnyickn0g4m',\n",
              "  'clmnnswer00j56wnyq3pzrdc1',\n",
              "  'clmnnswer00j66wnyhhs4guu0',\n",
              "  'clmnnswer00j76wnywhr231cj',\n",
              "  'clmnnswer00j86wnyyjanie2i',\n",
              "  'clmnnswer00j96wny2xbng9fy',\n",
              "  'clmnnswer00ja6wnym24jod43',\n",
              "  'clmnnswer00jb6wny2lsqiki3',\n",
              "  'clmnnswer00jc6wnyq4ng8ypn',\n",
              "  'clmnnswer00jd6wnyom89eupk',\n",
              "  'clmnnswer00je6wnyl40gtvnm',\n",
              "  'clmnnswer00jf6wnyfx6ugy5c']}"
            ]
          },
          "metadata": {},
          "execution_count": 35
        }
      ],
      "source": [
        "kili.append_many_to_dataset(\n",
        "    project_id=project_id,\n",
        "    external_id_array=external_id_array,\n",
        "    content_array=[str(x) for x in content_array],\n",
        "    json_metadata_array=json_metadata_array,\n",
        ")"
      ]
    },
    {
      "cell_type": "markdown",
      "metadata": {
        "id": "ny37L2cJ3PdI"
      },
      "source": [
        "### Import annotations"
      ]
    },
    {
      "cell_type": "markdown",
      "metadata": {
        "id": "JxMmWxMi3PdI"
      },
      "source": [
        "In this tutorial, we will need to use ground truth annotations to fine-tune the DINOv2 model.\n",
        "\n",
        "We thus simulate manual labeling on some images."
      ]
    },
    {
      "cell_type": "code",
      "execution_count": 36,
      "metadata": {
        "id": "2zsUoTTL3PdI"
      },
      "outputs": [],
      "source": [
        "nb_manually_labeled_assets = 200"
      ]
    },
    {
      "cell_type": "code",
      "execution_count": 37,
      "metadata": {
        "id": "ZdGasGeX3PdJ"
      },
      "outputs": [],
      "source": [
        "json_response_array = [\n",
        "    {\"CLASSIFICATION_JOB\": {\"categories\": [{\"confidence\": 100, \"name\": output_class}]}}\n",
        "    for output_class in output_class_array\n",
        "]"
      ]
    },
    {
      "cell_type": "code",
      "execution_count": 39,
      "metadata": {
        "id": "jqjGSSax3PdJ",
        "outputId": "14e44f3d-739d-4795-dffa-a1d5d208bd31",
        "colab": {
          "base_uri": "https://localhost:8080/"
        }
      },
      "outputs": [
        {
          "output_type": "stream",
          "name": "stdout",
          "text": [
            "\n",
            "Access your project at: https://cloud.kili-technology.com/label/projects/clmnnrkas671l087n9tyre1md\n"
          ]
        }
      ],
      "source": [
        "kili.append_labels(\n",
        "    project_id=project_id,\n",
        "    asset_external_id_array=external_id_array[:nb_manually_labeled_assets],\n",
        "    json_response_array=json_response_array[:nb_manually_labeled_assets],\n",
        "    label_type=\"DEFAULT\",\n",
        "    seconds_to_label_array=[\n",
        "        random.randint(60, 300) for _ in range(nb_manually_labeled_assets)  # simulate labeling time\n",
        "    ],\n",
        ")\n",
        "\n",
        "# Replace the project_id below with your own project_id!\n",
        "print(f\"\\nAccess your project at: https://cloud.kili-technology.com/label/projects/clmnnrkas671l087n9tyre1md\")"
      ]
    },
    {
      "cell_type": "markdown",
      "metadata": {
        "id": "K0Zpm9lb3PdJ"
      },
      "source": [
        "![image.png](attachment:febc8688-2d45-48f6-acb7-1a400db2f5fc.png)"
      ]
    },
    {
      "cell_type": "markdown",
      "metadata": {
        "id": "RbpNc1lQ3PdJ"
      },
      "source": [
        "Now we have a configured project on our Kili organization, with some assets already manually labeled."
      ]
    },
    {
      "cell_type": "markdown",
      "metadata": {
        "id": "vnfr-7GC3PdK"
      },
      "source": [
        "## Model training\n",
        "\n",
        "In this section, we will fine-tune the DINOv2 model using labeled images from a Kili project."
      ]
    },
    {
      "cell_type": "markdown",
      "metadata": {
        "id": "wzpnsSUl3PdK"
      },
      "source": [
        "### Dataset preparation\n",
        "\n",
        "Here, we will use the project we created earlier, but feel free to use your own project:"
      ]
    },
    {
      "cell_type": "code",
      "execution_count": 41,
      "metadata": {
        "id": "Ow26lgNw3PdK"
      },
      "outputs": [],
      "source": [
        "project_id = \"clmnnrkas671l087n9tyre1md\"  # put your own Kili project id here"
      ]
    },
    {
      "cell_type": "code",
      "execution_count": 42,
      "metadata": {
        "id": "Dsge0eDd3PdK"
      },
      "outputs": [],
      "source": [
        "nb_labeled_assets = 200  # put the number of labeled assets you want to retrieve here"
      ]
    },
    {
      "cell_type": "code",
      "execution_count": 43,
      "metadata": {
        "id": "Lb_GjKuu3PdK",
        "outputId": "21fe0cd0-6c87-4b98-e828-6557386a945a",
        "colab": {
          "base_uri": "https://localhost:8080/",
          "height": 462
        }
      },
      "outputs": [
        {
          "output_type": "error",
          "ename": "GraphQLError",
          "evalue": "ignored",
          "traceback": [
            "\u001b[0;31m---------------------------------------------------------------------------\u001b[0m",
            "\u001b[0;31mTransportQueryError\u001b[0m                       Traceback (most recent call last)",
            "\u001b[0;32m/usr/local/lib/python3.10/dist-packages/kili/core/graphql/graphql_client.py\u001b[0m in \u001b[0;36mexecute\u001b[0;34m(self, query, variables, **kwargs)\u001b[0m\n\u001b[1;32m    248\u001b[0m         \u001b[0;32mtry\u001b[0m\u001b[0;34m:\u001b[0m\u001b[0;34m\u001b[0m\u001b[0;34m\u001b[0m\u001b[0m\n\u001b[0;32m--> 249\u001b[0;31m             \u001b[0;32mreturn\u001b[0m \u001b[0mself\u001b[0m\u001b[0;34m.\u001b[0m\u001b[0m_execute_with_retries\u001b[0m\u001b[0;34m(\u001b[0m\u001b[0mdocument\u001b[0m\u001b[0;34m,\u001b[0m \u001b[0mvariables\u001b[0m\u001b[0;34m,\u001b[0m \u001b[0;34m**\u001b[0m\u001b[0mkwargs\u001b[0m\u001b[0;34m)\u001b[0m\u001b[0;34m\u001b[0m\u001b[0;34m\u001b[0m\u001b[0m\n\u001b[0m\u001b[1;32m    250\u001b[0m \u001b[0;34m\u001b[0m\u001b[0m\n",
            "\u001b[0;32m/usr/local/lib/python3.10/dist-packages/tenacity/__init__.py\u001b[0m in \u001b[0;36mwrapped_f\u001b[0;34m(*args, **kw)\u001b[0m\n\u001b[1;32m    288\u001b[0m         \u001b[0;32mdef\u001b[0m \u001b[0mwrapped_f\u001b[0m\u001b[0;34m(\u001b[0m\u001b[0;34m*\u001b[0m\u001b[0margs\u001b[0m\u001b[0;34m:\u001b[0m \u001b[0mt\u001b[0m\u001b[0;34m.\u001b[0m\u001b[0mAny\u001b[0m\u001b[0;34m,\u001b[0m \u001b[0;34m**\u001b[0m\u001b[0mkw\u001b[0m\u001b[0;34m:\u001b[0m \u001b[0mt\u001b[0m\u001b[0;34m.\u001b[0m\u001b[0mAny\u001b[0m\u001b[0;34m)\u001b[0m \u001b[0;34m->\u001b[0m \u001b[0mt\u001b[0m\u001b[0;34m.\u001b[0m\u001b[0mAny\u001b[0m\u001b[0;34m:\u001b[0m\u001b[0;34m\u001b[0m\u001b[0;34m\u001b[0m\u001b[0m\n\u001b[0;32m--> 289\u001b[0;31m             \u001b[0;32mreturn\u001b[0m \u001b[0mself\u001b[0m\u001b[0;34m(\u001b[0m\u001b[0mf\u001b[0m\u001b[0;34m,\u001b[0m \u001b[0;34m*\u001b[0m\u001b[0margs\u001b[0m\u001b[0;34m,\u001b[0m \u001b[0;34m**\u001b[0m\u001b[0mkw\u001b[0m\u001b[0;34m)\u001b[0m\u001b[0;34m\u001b[0m\u001b[0;34m\u001b[0m\u001b[0m\n\u001b[0m\u001b[1;32m    290\u001b[0m \u001b[0;34m\u001b[0m\u001b[0m\n",
            "\u001b[0;32m/usr/local/lib/python3.10/dist-packages/tenacity/__init__.py\u001b[0m in \u001b[0;36m__call__\u001b[0;34m(self, fn, *args, **kwargs)\u001b[0m\n\u001b[1;32m    378\u001b[0m         \u001b[0;32mwhile\u001b[0m \u001b[0;32mTrue\u001b[0m\u001b[0;34m:\u001b[0m\u001b[0;34m\u001b[0m\u001b[0;34m\u001b[0m\u001b[0m\n\u001b[0;32m--> 379\u001b[0;31m             \u001b[0mdo\u001b[0m \u001b[0;34m=\u001b[0m \u001b[0mself\u001b[0m\u001b[0;34m.\u001b[0m\u001b[0miter\u001b[0m\u001b[0;34m(\u001b[0m\u001b[0mretry_state\u001b[0m\u001b[0;34m=\u001b[0m\u001b[0mretry_state\u001b[0m\u001b[0;34m)\u001b[0m\u001b[0;34m\u001b[0m\u001b[0;34m\u001b[0m\u001b[0m\n\u001b[0m\u001b[1;32m    380\u001b[0m             \u001b[0;32mif\u001b[0m \u001b[0misinstance\u001b[0m\u001b[0;34m(\u001b[0m\u001b[0mdo\u001b[0m\u001b[0;34m,\u001b[0m \u001b[0mDoAttempt\u001b[0m\u001b[0;34m)\u001b[0m\u001b[0;34m:\u001b[0m\u001b[0;34m\u001b[0m\u001b[0;34m\u001b[0m\u001b[0m\n",
            "\u001b[0;32m/usr/local/lib/python3.10/dist-packages/tenacity/__init__.py\u001b[0m in \u001b[0;36miter\u001b[0;34m(self, retry_state)\u001b[0m\n\u001b[1;32m    313\u001b[0m         \u001b[0;32mif\u001b[0m \u001b[0;32mnot\u001b[0m \u001b[0;34m(\u001b[0m\u001b[0mis_explicit_retry\u001b[0m \u001b[0;32mor\u001b[0m \u001b[0mself\u001b[0m\u001b[0;34m.\u001b[0m\u001b[0mretry\u001b[0m\u001b[0;34m(\u001b[0m\u001b[0mretry_state\u001b[0m\u001b[0;34m)\u001b[0m\u001b[0;34m)\u001b[0m\u001b[0;34m:\u001b[0m\u001b[0;34m\u001b[0m\u001b[0;34m\u001b[0m\u001b[0m\n\u001b[0;32m--> 314\u001b[0;31m             \u001b[0;32mreturn\u001b[0m \u001b[0mfut\u001b[0m\u001b[0;34m.\u001b[0m\u001b[0mresult\u001b[0m\u001b[0;34m(\u001b[0m\u001b[0;34m)\u001b[0m\u001b[0;34m\u001b[0m\u001b[0;34m\u001b[0m\u001b[0m\n\u001b[0m\u001b[1;32m    315\u001b[0m \u001b[0;34m\u001b[0m\u001b[0m\n",
            "\u001b[0;32m/usr/lib/python3.10/concurrent/futures/_base.py\u001b[0m in \u001b[0;36mresult\u001b[0;34m(self, timeout)\u001b[0m\n\u001b[1;32m    450\u001b[0m                 \u001b[0;32melif\u001b[0m \u001b[0mself\u001b[0m\u001b[0;34m.\u001b[0m\u001b[0m_state\u001b[0m \u001b[0;34m==\u001b[0m \u001b[0mFINISHED\u001b[0m\u001b[0;34m:\u001b[0m\u001b[0;34m\u001b[0m\u001b[0;34m\u001b[0m\u001b[0m\n\u001b[0;32m--> 451\u001b[0;31m                     \u001b[0;32mreturn\u001b[0m \u001b[0mself\u001b[0m\u001b[0;34m.\u001b[0m\u001b[0m__get_result\u001b[0m\u001b[0;34m(\u001b[0m\u001b[0;34m)\u001b[0m\u001b[0;34m\u001b[0m\u001b[0;34m\u001b[0m\u001b[0m\n\u001b[0m\u001b[1;32m    452\u001b[0m \u001b[0;34m\u001b[0m\u001b[0m\n",
            "\u001b[0;32m/usr/lib/python3.10/concurrent/futures/_base.py\u001b[0m in \u001b[0;36m__get_result\u001b[0;34m(self)\u001b[0m\n\u001b[1;32m    402\u001b[0m             \u001b[0;32mtry\u001b[0m\u001b[0;34m:\u001b[0m\u001b[0;34m\u001b[0m\u001b[0;34m\u001b[0m\u001b[0m\n\u001b[0;32m--> 403\u001b[0;31m                 \u001b[0;32mraise\u001b[0m \u001b[0mself\u001b[0m\u001b[0;34m.\u001b[0m\u001b[0m_exception\u001b[0m\u001b[0;34m\u001b[0m\u001b[0;34m\u001b[0m\u001b[0m\n\u001b[0m\u001b[1;32m    404\u001b[0m             \u001b[0;32mfinally\u001b[0m\u001b[0;34m:\u001b[0m\u001b[0;34m\u001b[0m\u001b[0;34m\u001b[0m\u001b[0m\n",
            "\u001b[0;32m/usr/local/lib/python3.10/dist-packages/tenacity/__init__.py\u001b[0m in \u001b[0;36m__call__\u001b[0;34m(self, fn, *args, **kwargs)\u001b[0m\n\u001b[1;32m    381\u001b[0m                 \u001b[0;32mtry\u001b[0m\u001b[0;34m:\u001b[0m\u001b[0;34m\u001b[0m\u001b[0;34m\u001b[0m\u001b[0m\n\u001b[0;32m--> 382\u001b[0;31m                     \u001b[0mresult\u001b[0m \u001b[0;34m=\u001b[0m \u001b[0mfn\u001b[0m\u001b[0;34m(\u001b[0m\u001b[0;34m*\u001b[0m\u001b[0margs\u001b[0m\u001b[0;34m,\u001b[0m \u001b[0;34m**\u001b[0m\u001b[0mkwargs\u001b[0m\u001b[0;34m)\u001b[0m\u001b[0;34m\u001b[0m\u001b[0;34m\u001b[0m\u001b[0m\n\u001b[0m\u001b[1;32m    383\u001b[0m                 \u001b[0;32mexcept\u001b[0m \u001b[0mBaseException\u001b[0m\u001b[0;34m:\u001b[0m  \u001b[0;31m# noqa: B902\u001b[0m\u001b[0;34m\u001b[0m\u001b[0;34m\u001b[0m\u001b[0m\n",
            "\u001b[0;32m/usr/local/lib/python3.10/dist-packages/kili/core/graphql/graphql_client.py\u001b[0m in \u001b[0;36m_execute_with_retries\u001b[0;34m(self, document, variables, **kwargs)\u001b[0m\n\u001b[1;32m    285\u001b[0m     ) -> Dict[str, Any]:\n\u001b[0;32m--> 286\u001b[0;31m         \u001b[0;32mreturn\u001b[0m \u001b[0mself\u001b[0m\u001b[0;34m.\u001b[0m\u001b[0m_raw_execute\u001b[0m\u001b[0;34m(\u001b[0m\u001b[0mdocument\u001b[0m\u001b[0;34m,\u001b[0m \u001b[0mvariables\u001b[0m\u001b[0;34m,\u001b[0m \u001b[0;34m**\u001b[0m\u001b[0mkwargs\u001b[0m\u001b[0;34m)\u001b[0m\u001b[0;34m\u001b[0m\u001b[0;34m\u001b[0m\u001b[0m\n\u001b[0m\u001b[1;32m    287\u001b[0m \u001b[0;34m\u001b[0m\u001b[0m\n",
            "\u001b[0;32m/usr/local/lib/python3.10/dist-packages/kili/core/graphql/graphql_client.py\u001b[0m in \u001b[0;36m_raw_execute\u001b[0;34m(self, document, variables, **kwargs)\u001b[0m\n\u001b[1;32m    291\u001b[0m         \u001b[0;32mwith\u001b[0m \u001b[0m_limiter\u001b[0m\u001b[0;34m.\u001b[0m\u001b[0mratelimit\u001b[0m\u001b[0;34m(\u001b[0m\u001b[0;34m\"GraphQLClient.execute\"\u001b[0m\u001b[0;34m,\u001b[0m \u001b[0mdelay\u001b[0m\u001b[0;34m=\u001b[0m\u001b[0;32mTrue\u001b[0m\u001b[0;34m)\u001b[0m\u001b[0;34m,\u001b[0m \u001b[0m_execute_lock\u001b[0m\u001b[0;34m:\u001b[0m\u001b[0;34m\u001b[0m\u001b[0;34m\u001b[0m\u001b[0m\n\u001b[0;32m--> 292\u001b[0;31m             return self._gql_client.execute(\n\u001b[0m\u001b[1;32m    293\u001b[0m                 \u001b[0mdocument\u001b[0m\u001b[0;34m=\u001b[0m\u001b[0mdocument\u001b[0m\u001b[0;34m,\u001b[0m\u001b[0;34m\u001b[0m\u001b[0;34m\u001b[0m\u001b[0m\n",
            "\u001b[0;32m/usr/local/lib/python3.10/dist-packages/gql/client.py\u001b[0m in \u001b[0;36mexecute\u001b[0;34m(self, document, variable_values, operation_name, serialize_variables, parse_result, get_execution_result, **kwargs)\u001b[0m\n\u001b[1;32m    410\u001b[0m         \u001b[0;32melse\u001b[0m\u001b[0;34m:\u001b[0m  \u001b[0;31m# Sync transports\u001b[0m\u001b[0;34m\u001b[0m\u001b[0;34m\u001b[0m\u001b[0m\n\u001b[0;32m--> 411\u001b[0;31m             return self.execute_sync(\n\u001b[0m\u001b[1;32m    412\u001b[0m                 \u001b[0mdocument\u001b[0m\u001b[0;34m,\u001b[0m\u001b[0;34m\u001b[0m\u001b[0;34m\u001b[0m\u001b[0m\n",
            "\u001b[0;32m/usr/local/lib/python3.10/dist-packages/gql/client.py\u001b[0m in \u001b[0;36mexecute_sync\u001b[0;34m(self, document, variable_values, operation_name, serialize_variables, parse_result, get_execution_result, **kwargs)\u001b[0m\n\u001b[1;32m    228\u001b[0m         \u001b[0;32mwith\u001b[0m \u001b[0mself\u001b[0m \u001b[0;32mas\u001b[0m \u001b[0msession\u001b[0m\u001b[0;34m:\u001b[0m\u001b[0;34m\u001b[0m\u001b[0;34m\u001b[0m\u001b[0m\n\u001b[0;32m--> 229\u001b[0;31m             return session.execute(\n\u001b[0m\u001b[1;32m    230\u001b[0m                 \u001b[0mdocument\u001b[0m\u001b[0;34m,\u001b[0m\u001b[0;34m\u001b[0m\u001b[0;34m\u001b[0m\u001b[0m\n",
            "\u001b[0;32m/usr/local/lib/python3.10/dist-packages/gql/client.py\u001b[0m in \u001b[0;36mexecute\u001b[0;34m(self, document, variable_values, operation_name, serialize_variables, parse_result, get_execution_result, **kwargs)\u001b[0m\n\u001b[1;32m    866\u001b[0m         \u001b[0;32mif\u001b[0m \u001b[0mresult\u001b[0m\u001b[0;34m.\u001b[0m\u001b[0merrors\u001b[0m\u001b[0;34m:\u001b[0m\u001b[0;34m\u001b[0m\u001b[0;34m\u001b[0m\u001b[0m\n\u001b[0;32m--> 867\u001b[0;31m             raise TransportQueryError(\n\u001b[0m\u001b[1;32m    868\u001b[0m                 \u001b[0mstr_first_element\u001b[0m\u001b[0;34m(\u001b[0m\u001b[0mresult\u001b[0m\u001b[0;34m.\u001b[0m\u001b[0merrors\u001b[0m\u001b[0;34m)\u001b[0m\u001b[0;34m,\u001b[0m\u001b[0;34m\u001b[0m\u001b[0;34m\u001b[0m\u001b[0m\n",
            "\u001b[0;31mTransportQueryError\u001b[0m: {'message': '[licenseLimitation] This feature is not included in your free plan. -- This can be due to: Your license does not allow you to use the API | trace : false', 'locations': [{'line': 2, 'column': 3}], 'path': ['data'], 'extensions': {'code': 'OPERATION_RESOLUTION_FAILURE'}}",
            "\nThe above exception was the direct cause of the following exception:\n",
            "\u001b[0;31mGraphQLError\u001b[0m                              Traceback (most recent call last)",
            "\u001b[0;32m<ipython-input-43-63e936fd2cce>\u001b[0m in \u001b[0;36m<cell line: 3>\u001b[0;34m()\u001b[0m\n\u001b[1;32m      1\u001b[0m \u001b[0mdata_dir\u001b[0m \u001b[0;34m=\u001b[0m \u001b[0;34m\"./data\"\u001b[0m\u001b[0;34m\u001b[0m\u001b[0;34m\u001b[0m\u001b[0m\n\u001b[1;32m      2\u001b[0m \u001b[0;34m\u001b[0m\u001b[0m\n\u001b[0;32m----> 3\u001b[0;31m labeled_assets = kili.assets(\n\u001b[0m\u001b[1;32m      4\u001b[0m     \u001b[0mproject_id\u001b[0m\u001b[0;34m=\u001b[0m\u001b[0mproject_id\u001b[0m\u001b[0;34m,\u001b[0m\u001b[0;34m\u001b[0m\u001b[0;34m\u001b[0m\u001b[0m\n\u001b[1;32m      5\u001b[0m     fields=[\n",
            "\u001b[0;32m/usr/local/lib/python3.10/dist-packages/kili/utils/logcontext.py\u001b[0m in \u001b[0;36mwrapper\u001b[0;34m(*args, **kwargs)\u001b[0m\n\u001b[1;32m     57\u001b[0m         )\n\u001b[1;32m     58\u001b[0m         \u001b[0mcontext\u001b[0m\u001b[0;34m[\u001b[0m\u001b[0;34m\"kili-client-call-uuid\"\u001b[0m\u001b[0;34m]\u001b[0m \u001b[0;34m=\u001b[0m \u001b[0mstr\u001b[0m\u001b[0;34m(\u001b[0m\u001b[0muuid\u001b[0m\u001b[0;34m.\u001b[0m\u001b[0muuid4\u001b[0m\u001b[0;34m(\u001b[0m\u001b[0;34m)\u001b[0m\u001b[0;34m)\u001b[0m\u001b[0;34m\u001b[0m\u001b[0;34m\u001b[0m\u001b[0m\n\u001b[0;32m---> 59\u001b[0;31m         \u001b[0;32mreturn\u001b[0m \u001b[0mfunc\u001b[0m\u001b[0;34m(\u001b[0m\u001b[0;34m*\u001b[0m\u001b[0margs\u001b[0m\u001b[0;34m,\u001b[0m \u001b[0;34m**\u001b[0m\u001b[0mkwargs\u001b[0m\u001b[0;34m)\u001b[0m\u001b[0;34m\u001b[0m\u001b[0;34m\u001b[0m\u001b[0m\n\u001b[0m\u001b[1;32m     60\u001b[0m \u001b[0;34m\u001b[0m\u001b[0m\n\u001b[1;32m     61\u001b[0m     \u001b[0;32mreturn\u001b[0m \u001b[0mwrapper\u001b[0m\u001b[0;34m\u001b[0m\u001b[0;34m\u001b[0m\u001b[0m\n",
            "\u001b[0;32m/usr/local/lib/python3.10/dist-packages/typeguard/__init__.py\u001b[0m in \u001b[0;36mwrapper\u001b[0;34m(*args, **kwargs)\u001b[0m\n\u001b[1;32m   1031\u001b[0m         \u001b[0mmemo\u001b[0m \u001b[0;34m=\u001b[0m \u001b[0m_CallMemo\u001b[0m\u001b[0;34m(\u001b[0m\u001b[0mpython_func\u001b[0m\u001b[0;34m,\u001b[0m \u001b[0m_localns\u001b[0m\u001b[0;34m,\u001b[0m \u001b[0margs\u001b[0m\u001b[0;34m=\u001b[0m\u001b[0margs\u001b[0m\u001b[0;34m,\u001b[0m \u001b[0mkwargs\u001b[0m\u001b[0;34m=\u001b[0m\u001b[0mkwargs\u001b[0m\u001b[0;34m)\u001b[0m\u001b[0;34m\u001b[0m\u001b[0;34m\u001b[0m\u001b[0m\n\u001b[1;32m   1032\u001b[0m         \u001b[0mcheck_argument_types\u001b[0m\u001b[0;34m(\u001b[0m\u001b[0mmemo\u001b[0m\u001b[0;34m)\u001b[0m\u001b[0;34m\u001b[0m\u001b[0;34m\u001b[0m\u001b[0m\n\u001b[0;32m-> 1033\u001b[0;31m         \u001b[0mretval\u001b[0m \u001b[0;34m=\u001b[0m \u001b[0mfunc\u001b[0m\u001b[0;34m(\u001b[0m\u001b[0;34m*\u001b[0m\u001b[0margs\u001b[0m\u001b[0;34m,\u001b[0m \u001b[0;34m**\u001b[0m\u001b[0mkwargs\u001b[0m\u001b[0;34m)\u001b[0m\u001b[0;34m\u001b[0m\u001b[0;34m\u001b[0m\u001b[0m\n\u001b[0m\u001b[1;32m   1034\u001b[0m         \u001b[0;32mtry\u001b[0m\u001b[0;34m:\u001b[0m\u001b[0;34m\u001b[0m\u001b[0;34m\u001b[0m\u001b[0m\n\u001b[1;32m   1035\u001b[0m             \u001b[0mcheck_return_type\u001b[0m\u001b[0;34m(\u001b[0m\u001b[0mretval\u001b[0m\u001b[0;34m,\u001b[0m \u001b[0mmemo\u001b[0m\u001b[0;34m)\u001b[0m\u001b[0;34m\u001b[0m\u001b[0;34m\u001b[0m\u001b[0m\n",
            "\u001b[0;32m/usr/local/lib/python3.10/dist-packages/kili/presentation/client/asset.py\u001b[0m in \u001b[0;36massets\u001b[0;34m(self, project_id, asset_id, skip, fields, asset_id_in, asset_id_not_in, consensus_mark_gt, consensus_mark_lt, disable_tqdm, external_id_contains, first, format, honeypot_mark_gt, honeypot_mark_lt, label_author_in, label_consensus_mark_gt, label_consensus_mark_lt, label_created_at, label_created_at_gt, label_created_at_lt, label_honeypot_mark_gt, label_honeypot_mark_lt, label_type_in, metadata_where, skipped, status_in, updated_at_gte, updated_at_lte, label_category_search, download_media, local_media_dir, created_at_gte, created_at_lte, honeypot_mark_gte, honeypot_mark_lte, consensus_mark_gte, consensus_mark_lte, inference_mark_gte, inference_mark_lte, label_reviewer_in, label_consensus_mark_gte, label_consensus_mark_lte, label_created_at_gte, label_created_at_lte, label_honeypot_mark_gte, label_honeypot_mark_lte, issue_type, issue_status, external_id_strictly_in, external_id_in, label_output_format, as_generator)\u001b[0m\n\u001b[1;32m    423\u001b[0m             \u001b[0missue_type\u001b[0m\u001b[0;34m=\u001b[0m\u001b[0missue_type\u001b[0m\u001b[0;34m,\u001b[0m\u001b[0;34m\u001b[0m\u001b[0;34m\u001b[0m\u001b[0m\n\u001b[1;32m    424\u001b[0m         )\n\u001b[0;32m--> 425\u001b[0;31m         assets_gen = asset_use_cases.list_assets(\n\u001b[0m\u001b[1;32m    426\u001b[0m             \u001b[0mfilters\u001b[0m\u001b[0;34m,\u001b[0m\u001b[0;34m\u001b[0m\u001b[0;34m\u001b[0m\u001b[0m\n\u001b[1;32m    427\u001b[0m             \u001b[0mfields\u001b[0m\u001b[0;34m,\u001b[0m\u001b[0;34m\u001b[0m\u001b[0;34m\u001b[0m\u001b[0m\n",
            "\u001b[0;32m/usr/local/lib/python3.10/dist-packages/kili/use_cases/asset/__init__.py\u001b[0m in \u001b[0;36mlist_assets\u001b[0;34m(self, filters, fields, first, skip, disable_tqdm, download_media, local_media_dir, label_output_format)\u001b[0m\n\u001b[1;32m     39\u001b[0m             \u001b[0mvalidate_category_search_query\u001b[0m\u001b[0;34m(\u001b[0m\u001b[0mfilters\u001b[0m\u001b[0;34m.\u001b[0m\u001b[0mlabel_category_search\u001b[0m\u001b[0;34m)\u001b[0m\u001b[0;34m\u001b[0m\u001b[0;34m\u001b[0m\u001b[0m\n\u001b[1;32m     40\u001b[0m \u001b[0;34m\u001b[0m\u001b[0m\n\u001b[0;32m---> 41\u001b[0;31m         download_media_function, fields = get_download_assets_function(\n\u001b[0m\u001b[1;32m     42\u001b[0m             \u001b[0mself\u001b[0m\u001b[0;34m.\u001b[0m\u001b[0m_kili_api_gateway\u001b[0m\u001b[0;34m,\u001b[0m\u001b[0;34m\u001b[0m\u001b[0;34m\u001b[0m\u001b[0m\n\u001b[1;32m     43\u001b[0m             \u001b[0mdownload_media\u001b[0m\u001b[0;34m,\u001b[0m\u001b[0;34m\u001b[0m\u001b[0;34m\u001b[0m\u001b[0m\n",
            "\u001b[0;32m/usr/local/lib/python3.10/dist-packages/kili/use_cases/asset/media_downloader.py\u001b[0m in \u001b[0;36mget_download_assets_function\u001b[0;34m(kili_api_gateway, download_media, fields, project_id, local_media_dir)\u001b[0m\n\u001b[1;32m     54\u001b[0m         \u001b[0moptions\u001b[0m\u001b[0;34m=\u001b[0m\u001b[0mQueryOptions\u001b[0m\u001b[0;34m(\u001b[0m\u001b[0mdisable_tqdm\u001b[0m\u001b[0;34m=\u001b[0m\u001b[0;32mTrue\u001b[0m\u001b[0;34m,\u001b[0m \u001b[0mfirst\u001b[0m\u001b[0;34m=\u001b[0m\u001b[0;36m1\u001b[0m\u001b[0;34m,\u001b[0m \u001b[0mskip\u001b[0m\u001b[0;34m=\u001b[0m\u001b[0;36m0\u001b[0m\u001b[0;34m)\u001b[0m\u001b[0;34m,\u001b[0m\u001b[0;34m\u001b[0m\u001b[0;34m\u001b[0m\u001b[0m\n\u001b[1;32m     55\u001b[0m     )\n\u001b[0;32m---> 56\u001b[0;31m     \u001b[0;32mif\u001b[0m \u001b[0mlen\u001b[0m\u001b[0;34m(\u001b[0m\u001b[0mlist\u001b[0m\u001b[0;34m(\u001b[0m\u001b[0mdata_connections_gen\u001b[0m\u001b[0;34m)\u001b[0m\u001b[0;34m)\u001b[0m \u001b[0;34m>\u001b[0m \u001b[0;36m0\u001b[0m\u001b[0;34m:\u001b[0m\u001b[0;34m\u001b[0m\u001b[0;34m\u001b[0m\u001b[0m\n\u001b[0m\u001b[1;32m     57\u001b[0m         raise DownloadNotAllowedError(\n\u001b[1;32m     58\u001b[0m             \u001b[0;34m\"The download of assets from a project connected to a cloud storage is not allowed.\"\u001b[0m\u001b[0;34m\u001b[0m\u001b[0;34m\u001b[0m\u001b[0m\n",
            "\u001b[0;32m/usr/local/lib/python3.10/dist-packages/kili/core/graphql/queries.py\u001b[0m in \u001b[0;36mexecute_query_from_paginated_call\u001b[0;34m(self, query, where, options, post_call_function)\u001b[0m\n\u001b[1;32m    143\u001b[0m                     )\n\u001b[1;32m    144\u001b[0m                     \u001b[0mpayload\u001b[0m \u001b[0;34m=\u001b[0m \u001b[0;34m{\u001b[0m\u001b[0;34m\"where\"\u001b[0m\u001b[0;34m:\u001b[0m \u001b[0mwhere\u001b[0m\u001b[0;34m.\u001b[0m\u001b[0mgraphql_payload\u001b[0m\u001b[0;34m,\u001b[0m \u001b[0;34m\"skip\"\u001b[0m\u001b[0;34m:\u001b[0m \u001b[0mskip\u001b[0m\u001b[0;34m,\u001b[0m \u001b[0;34m\"first\"\u001b[0m\u001b[0;34m:\u001b[0m \u001b[0mfirst\u001b[0m\u001b[0;34m}\u001b[0m\u001b[0;34m\u001b[0m\u001b[0;34m\u001b[0m\u001b[0m\n\u001b[0;32m--> 145\u001b[0;31m                     \u001b[0mrows\u001b[0m \u001b[0;34m=\u001b[0m \u001b[0mself\u001b[0m\u001b[0;34m.\u001b[0m\u001b[0mclient\u001b[0m\u001b[0;34m.\u001b[0m\u001b[0mexecute\u001b[0m\u001b[0;34m(\u001b[0m\u001b[0mquery\u001b[0m\u001b[0;34m,\u001b[0m \u001b[0mpayload\u001b[0m\u001b[0;34m)\u001b[0m\u001b[0;34m\u001b[0m\u001b[0;34m\u001b[0m\u001b[0m\n\u001b[0m\u001b[1;32m    146\u001b[0m                     \u001b[0mrows\u001b[0m \u001b[0;34m=\u001b[0m \u001b[0mself\u001b[0m\u001b[0;34m.\u001b[0m\u001b[0mformat_result\u001b[0m\u001b[0;34m(\u001b[0m\u001b[0;34m\"data\"\u001b[0m\u001b[0;34m,\u001b[0m \u001b[0mrows\u001b[0m\u001b[0;34m,\u001b[0m \u001b[0mself\u001b[0m\u001b[0;34m.\u001b[0m\u001b[0mFORMAT_TYPE\u001b[0m\u001b[0;34m)\u001b[0m\u001b[0;34m\u001b[0m\u001b[0;34m\u001b[0m\u001b[0m\n\u001b[1;32m    147\u001b[0m \u001b[0;34m\u001b[0m\u001b[0m\n",
            "\u001b[0;32m/usr/local/lib/python3.10/dist-packages/kili/core/graphql/graphql_client.py\u001b[0m in \u001b[0;36mexecute\u001b[0;34m(self, query, variables, **kwargs)\u001b[0m\n\u001b[1;32m    267\u001b[0m         \u001b[0;32mexcept\u001b[0m \u001b[0mexceptions\u001b[0m\u001b[0;34m.\u001b[0m\u001b[0mTransportQueryError\u001b[0m \u001b[0;32mas\u001b[0m \u001b[0merr\u001b[0m\u001b[0;34m:\u001b[0m  \u001b[0;31m# remove validation error\u001b[0m\u001b[0;34m\u001b[0m\u001b[0;34m\u001b[0m\u001b[0m\n\u001b[1;32m    268\u001b[0m             \u001b[0;31m# the server refused the query after some retries, we crash\u001b[0m\u001b[0;34m\u001b[0m\u001b[0;34m\u001b[0m\u001b[0m\n\u001b[0;32m--> 269\u001b[0;31m             \u001b[0;32mraise\u001b[0m \u001b[0mkili\u001b[0m\u001b[0;34m.\u001b[0m\u001b[0mexceptions\u001b[0m\u001b[0;34m.\u001b[0m\u001b[0mGraphQLError\u001b[0m\u001b[0;34m(\u001b[0m\u001b[0merror\u001b[0m\u001b[0;34m=\u001b[0m\u001b[0merr\u001b[0m\u001b[0;34m.\u001b[0m\u001b[0merrors\u001b[0m\u001b[0;34m)\u001b[0m \u001b[0;32mfrom\u001b[0m \u001b[0merr\u001b[0m\u001b[0;34m\u001b[0m\u001b[0;34m\u001b[0m\u001b[0m\n\u001b[0m\u001b[1;32m    270\u001b[0m \u001b[0;34m\u001b[0m\u001b[0m\n\u001b[1;32m    271\u001b[0m     @retry(\n",
            "\u001b[0;31mGraphQLError\u001b[0m: GraphQL error: \"[licenseLimitation] This feature is not included in your free plan. -- This can be due to: Your license does not allow you to use the API | trace : false\""
          ]
        }
      ],
      "source": [
        "data_dir = \"./data\"\n",
        "\n",
        "labeled_assets = kili.assets(\n",
        "    project_id=project_id,\n",
        "    fields=[\n",
        "        \"id\",\n",
        "        \"content\",\n",
        "        \"labels.jsonResponse\",\n",
        "        \"externalId\",\n",
        "        \"latestLabel.jsonResponse\",\n",
        "        \"jsonMetadata\",\n",
        "    ],\n",
        "    status_in=[\"LABELED\"],  # we retrieve assets already labeled\n",
        "    download_media=True,\n",
        "    local_media_dir=data_dir,\n",
        "    first=nb_labeled_assets,\n",
        "    label_output_format=\"parsed_label\",\n",
        ")\n",
        "\n",
        "print(f\"\\nRetrieved {len(labeled_assets)} labeled assets.\")"
      ]
    },
    {
      "cell_type": "markdown",
      "metadata": {
        "id": "_plRkXQ03PdL"
      },
      "source": [
        "We split the train data into the two classes:"
      ]
    },
    {
      "cell_type": "code",
      "execution_count": null,
      "metadata": {
        "id": "QkfKsviD3PdL",
        "outputId": "b951fcda-f72d-483d-e77d-6809129da8a8"
      },
      "outputs": [
        {
          "name": "stdout",
          "output_type": "stream",
          "text": [
            "['train']\n",
            "100\n",
            "100\n"
          ]
        }
      ],
      "source": [
        "Path(\"./data/train/YES\").mkdir(parents=True, exist_ok=True)\n",
        "Path(\"./data/train/NO\").mkdir(parents=True, exist_ok=True)\n",
        "\n",
        "for asset in labeled_assets:\n",
        "    class_name = asset[\"latestLabel\"].jobs[\"CLASSIFICATION_JOB\"].category.name\n",
        "    filepath = Path(asset[\"content\"])\n",
        "    filepath.rename(filepath.parent / \"train\" / class_name / filepath.name)\n",
        "\n",
        "print(os.listdir(data_dir))\n",
        "print(len(os.listdir(data_dir + \"/train/YES\")))\n",
        "print(len(os.listdir(data_dir + \"/train/NO\")))"
      ]
    },
    {
      "cell_type": "markdown",
      "metadata": {
        "id": "ABp-_L2J3PdM"
      },
      "source": [
        "Below, we prepare the pipeline that loads the images and applies some data augmentation. Data augmentation is a technique that consists of applying random transformations to the images to artificially increase the size of the dataset. This technique is very useful when the dataset is small, since it allows the model to see more images during training.\n",
        "\n",
        "For example, we can apply random horizontal and vertical flips and random rotations to the images:"
      ]
    },
    {
      "cell_type": "code",
      "execution_count": null,
      "metadata": {
        "id": "v9Adwa7o3PdM",
        "outputId": "1896a2c4-9a1a-442d-98de-0027b7185609"
      },
      "outputs": [
        {
          "name": "stdout",
          "output_type": "stream",
          "text": [
            "['NO', 'YES']\n"
          ]
        }
      ],
      "source": [
        "data_transforms = {\n",
        "    \"train\": transforms.Compose(\n",
        "        [\n",
        "            transforms.Resize(224),\n",
        "            transforms.RandomRotation(360),\n",
        "            transforms.RandomHorizontalFlip(),\n",
        "            transforms.RandomVerticalFlip(),\n",
        "            transforms.ToTensor(),\n",
        "            transforms.Normalize([0.485, 0.456, 0.406], [0.229, 0.224, 0.225]),\n",
        "        ]\n",
        "    ),\n",
        "}\n",
        "\n",
        "image_datasets = {\n",
        "    \"train\": datasets.ImageFolder(os.path.join(data_dir, \"train\"), data_transforms[\"train\"])\n",
        "}\n",
        "\n",
        "dataloaders = {\n",
        "    \"train\": torch.utils.data.DataLoader(image_datasets[\"train\"], batch_size=8, shuffle=True)\n",
        "}\n",
        "\n",
        "class_names = image_datasets[\"train\"].classes\n",
        "\n",
        "print(class_names)"
      ]
    },
    {
      "cell_type": "markdown",
      "metadata": {
        "id": "MsJeeoAZ3PdM"
      },
      "source": [
        "### Model download & fine-tuning\n"
      ]
    },
    {
      "cell_type": "markdown",
      "metadata": {
        "id": "yjBKQ8FQ3PdM"
      },
      "source": [
        "We load the DINOv2 model from the HuggingFace library:"
      ]
    },
    {
      "cell_type": "code",
      "execution_count": null,
      "metadata": {
        "id": "CJ9RG4-a3PdM"
      },
      "outputs": [],
      "source": [
        "dinov2_vits14 = torch.hub.load(\"facebookresearch/dinov2\", \"dinov2_vits14\")"
      ]
    },
    {
      "cell_type": "markdown",
      "metadata": {
        "id": "QRmqXsEC3PdM"
      },
      "source": [
        "Let's see what is the output of this model:"
      ]
    },
    {
      "cell_type": "code",
      "execution_count": null,
      "metadata": {
        "id": "oTbmiNGB3PdN",
        "outputId": "84fd10d3-70bb-4c7f-f747-aa9ce208ee57"
      },
      "outputs": [
        {
          "name": "stdout",
          "output_type": "stream",
          "text": [
            "torch.Size([1, 384])\n"
          ]
        }
      ],
      "source": [
        "input_img_tensor, class_id = next(iter(image_datasets[\"train\"]))\n",
        "\n",
        "with torch.inference_mode():\n",
        "    output = dinov2_vits14(torch.unsqueeze(input_img_tensor, dim=0))\n",
        "\n",
        "print(output.size())"
      ]
    },
    {
      "cell_type": "markdown",
      "metadata": {
        "id": "9PnQMAcA3PdN"
      },
      "source": [
        "As you can see, the output is a vector of dimension 384. This is the embedding of the image.\n",
        "\n",
        "The embedding is a vector that represents the image in the DINOv2 model latent space. The embedding contains a compressed representation of the image, which is useful for many tasks, such as image classification.\n",
        "\n",
        "The embedding dimension is:\n",
        "\n",
        "- 384 for ViT-S (we are using this model in this tutorial).\n",
        "- 768 for ViT-B.\n",
        "- 1024 for ViT-L.\n",
        "- 1536 for ViT-g.\n"
      ]
    },
    {
      "cell_type": "markdown",
      "metadata": {
        "id": "K0qffdj13PdN"
      },
      "source": [
        "To predict a class, we need to add a classification head to the DINOv2 model.\n",
        "\n",
        "This small neural network will take the embeddings as input, and will output a score for the binary classification."
      ]
    },
    {
      "cell_type": "code",
      "execution_count": null,
      "metadata": {
        "id": "7pirJyoI3PdN"
      },
      "outputs": [],
      "source": [
        "class DinoVisionTransformerClassifier(nn.Module):\n",
        "    def __init__(self):\n",
        "        super(DinoVisionTransformerClassifier, self).__init__()\n",
        "        self.transformer = deepcopy(dinov2_vits14)\n",
        "        self.classifier = nn.Sequential(nn.Linear(384, 256), nn.ReLU(), nn.Linear(256, 1))\n",
        "\n",
        "    def forward(self, x):\n",
        "        x = self.transformer(x)\n",
        "        x = self.transformer.norm(x)\n",
        "        x = self.classifier(x)\n",
        "        return x\n",
        "\n",
        "\n",
        "model = DinoVisionTransformerClassifier()"
      ]
    },
    {
      "cell_type": "markdown",
      "metadata": {
        "id": "UaNeESeR3PdN"
      },
      "source": [
        "Below, we select the device to use for training. It is recommended to use a GPU for this task:"
      ]
    },
    {
      "cell_type": "code",
      "execution_count": null,
      "metadata": {
        "id": "-2WI3nO63PdO",
        "outputId": "ccda7594-1284-4844-a64a-801c7003904a"
      },
      "outputs": [
        {
          "name": "stdout",
          "output_type": "stream",
          "text": [
            "Device:  cuda:0\n"
          ]
        }
      ],
      "source": [
        "device = torch.device(\"cuda:0\" if torch.cuda.is_available() else \"cpu\")\n",
        "print(\"Device: \", device)\n",
        "model = model.to(device)\n",
        "model = model.train()"
      ]
    },
    {
      "cell_type": "markdown",
      "metadata": {
        "id": "NDKolMf93PdO"
      },
      "source": [
        "We use a binary cross-entropy loss to train the model, with the Adam optimizer.\n",
        "\n",
        "The binary cross-entropy loss is a standard loss function for binary classification tasks. The loss is like the error between the predicted class and the ground truth class. The higher the loss, the worse the model is.\n",
        "\n",
        "To decrease the loss, we will use the Adam optimizer, which is a widely used optimizer for neural networks. It is a stochastic gradient descent method that computes adaptive learning rates for each parameter of the model."
      ]
    },
    {
      "cell_type": "code",
      "execution_count": null,
      "metadata": {
        "id": "n2fbB41c3PdO"
      },
      "outputs": [],
      "source": [
        "criterion = nn.BCEWithLogitsLoss()\n",
        "optimizer = optim.Adam(model.parameters(), lr=1e-6)"
      ]
    },
    {
      "cell_type": "markdown",
      "metadata": {
        "id": "LN5yG5S03PdO"
      },
      "source": [
        "We also define the number of epochs to train the model. An epoch is a full pass through the training data."
      ]
    },
    {
      "cell_type": "code",
      "execution_count": null,
      "metadata": {
        "id": "bVydcuag3PdO"
      },
      "outputs": [],
      "source": [
        "num_epochs = 15"
      ]
    },
    {
      "cell_type": "code",
      "execution_count": null,
      "metadata": {
        "id": "Iuw553wh3PdP",
        "outputId": "268e6225-cc97-4064-d771-0f470829ec83"
      },
      "outputs": [
        {
          "name": "stdout",
          "output_type": "stream",
          "text": [
            "Epoch:  0\n",
            "Mean epoch loss: 0.7347773921489715\n",
            "Epoch:  1\n",
            "Mean epoch loss: 0.5930992090702056\n",
            "Epoch:  2\n",
            "Mean epoch loss: 0.5117795491218566\n",
            "Epoch:  3\n",
            "Mean epoch loss: 0.4436239504814148\n",
            "Epoch:  4\n",
            "Mean epoch loss: 0.34697133481502535\n",
            "Epoch:  5\n",
            "Mean epoch loss: 0.2919022357463837\n",
            "Epoch:  6\n",
            "Mean epoch loss: 0.18035753384232522\n",
            "Epoch:  7\n",
            "Mean epoch loss: 0.117118861079216\n",
            "Epoch:  8\n",
            "Mean epoch loss: 0.11755006849765777\n",
            "Epoch:  9\n",
            "Mean epoch loss: 0.08585118860006333\n",
            "Epoch:  10\n",
            "Mean epoch loss: 0.07716833263635635\n",
            "Epoch:  11\n",
            "Mean epoch loss: 0.05035351105034351\n",
            "Epoch:  12\n",
            "Mean epoch loss: 0.06317368872463704\n",
            "Epoch:  13\n",
            "Mean epoch loss: 0.04912809677422047\n",
            "Epoch:  14\n",
            "Mean epoch loss: 0.05099196014925837\n",
            "Finished training!\n"
          ]
        }
      ],
      "source": [
        "epoch_losses = []\n",
        "for epoch in range(num_epochs):\n",
        "    print(\"Epoch: \", epoch)\n",
        "\n",
        "    batch_losses = []\n",
        "    for data in dataloaders[\"train\"]:\n",
        "        # get the input batch and the labels\n",
        "        batch_of_images, labels = data\n",
        "\n",
        "        # zero the parameter gradients\n",
        "        optimizer.zero_grad()\n",
        "\n",
        "        # model prediction\n",
        "        output = model(batch_of_images.to(device)).squeeze(dim=1)\n",
        "\n",
        "        # compute loss and do gradient descent\n",
        "        loss = criterion(output, labels.float().to(device))\n",
        "        loss.backward()\n",
        "        optimizer.step()\n",
        "\n",
        "        batch_losses.append(loss.item())\n",
        "\n",
        "    epoch_losses.append(np.mean(batch_losses))\n",
        "    print(f\"Mean epoch loss: {epoch_losses[-1]}\")\n",
        "\n",
        "print(\"Finished training!\")"
      ]
    },
    {
      "cell_type": "markdown",
      "metadata": {
        "id": "TcHtpS7k3PdP"
      },
      "source": [
        "As you can see on the plot below, the loss decreases as the number of epochs increases. This means that the model has successfully learned to classify images.\n",
        "\n",
        "When the loss stops decreasing, it means that the model has converged and that we can stop the training. In this case, we could have stopped the training after 11 epochs."
      ]
    },
    {
      "cell_type": "code",
      "execution_count": null,
      "metadata": {
        "id": "9Ei_Ijxh3PdP",
        "outputId": "cc5a0ae7-231f-47ba-93df-3dcc5d299c8d"
      },
      "outputs": [
        {
          "data": {
            "image/png": "[encoded data removed]",
            "text/plain": [
              "<Figure size 640x480 with 1 Axes>"
            ]
          },
          "metadata": {},
          "output_type": "display_data"
        }
      ],
      "source": [
        "plt.plot(epoch_losses)\n",
        "plt.title(\"Mean epoch loss\")\n",
        "plt.xlabel(\"Epoch Number\")\n",
        "plt.ylabel(\"Loss\")\n",
        "plt.show()"
      ]
    },
    {
      "cell_type": "markdown",
      "metadata": {
        "id": "DZxbpT053PdQ"
      },
      "source": [
        "Perfect! The model is now fine-tuned on the labeled images from Kili."
      ]
    },
    {
      "cell_type": "markdown",
      "metadata": {
        "id": "YVPsCWnN3PdQ"
      },
      "source": [
        "## Predict with the model on unlabeled assets"
      ]
    },
    {
      "cell_type": "markdown",
      "metadata": {
        "id": "pq-v_ceT3PdQ"
      },
      "source": [
        "In this section, we will use the fine-tuned model to generate pre-annotations on a set of images to label."
      ]
    },
    {
      "cell_type": "code",
      "execution_count": null,
      "metadata": {
        "id": "UpB4UrVK3PdQ"
      },
      "outputs": [],
      "source": [
        "max_nb_assets_to_label = 200"
      ]
    },
    {
      "cell_type": "code",
      "execution_count": null,
      "metadata": {
        "id": "XgIonB613PdQ",
        "outputId": "83ff4964-2515-42ce-b265-19d6539dd7b8"
      },
      "outputs": [
        {
          "name": "stderr",
          "output_type": "stream",
          "text": [
            "100%|██████████| 200/200 [00:18<00:00, 11.08it/s]"
          ]
        },
        {
          "name": "stdout",
          "output_type": "stream",
          "text": [
            "\n",
            "Number of fetched assets to label:  200\n"
          ]
        },
        {
          "name": "stderr",
          "output_type": "stream",
          "text": [
            "\n"
          ]
        }
      ],
      "source": [
        "non_labeled_assets = kili.assets(\n",
        "    project_id=project_id,\n",
        "    fields=[\"id\", \"content\", \"externalId\", \"jsonMetadata\"],\n",
        "    status_in=[\"TODO\"],  # we choose assets to label\n",
        "    first=max_nb_assets_to_label,\n",
        "    download_media=True,\n",
        ")\n",
        "print(\"\\nNumber of fetched assets to label: \", len(non_labeled_assets))"
      ]
    },
    {
      "cell_type": "markdown",
      "metadata": {
        "id": "J8CPtfwh3PdR"
      },
      "source": [
        "The `kili.assets` method returns a list of assets represented as Python dictionaries:"
      ]
    },
    {
      "cell_type": "code",
      "execution_count": null,
      "metadata": {
        "id": "KWpuHmw23PdR",
        "outputId": "159df0ee-d7ac-4711-a67d-9aeb33727f23"
      },
      "outputs": [
        {
          "data": {
            "text/plain": [
              "{'id': 'cliisunn100xcmkp9tsuj17ut',\n",
              " 'content': '/root/.cache/kili/projects/cliistnwa003c0j78ay1y3qlm/assets/3016_d.jpg',\n",
              " 'externalId': '3016_d',\n",
              " 'jsonMetadata': {'Ground Truth': 'YES'}}"
            ]
          },
          "execution_count": null,
          "metadata": {},
          "output_type": "execute_result"
        }
      ],
      "source": [
        "non_labeled_assets[0]"
      ]
    },
    {
      "cell_type": "markdown",
      "metadata": {
        "id": "nyN6kwTO3PdR"
      },
      "source": [
        "We can now use the model to generate pre-annotations on the assets:"
      ]
    },
    {
      "cell_type": "code",
      "execution_count": null,
      "metadata": {
        "id": "DHHy153v3PdR"
      },
      "outputs": [],
      "source": [
        "data_transforms = transforms.Compose(\n",
        "    [\n",
        "        transforms.Resize(256),\n",
        "        transforms.CenterCrop(224),\n",
        "        transforms.ToTensor(),\n",
        "        transforms.Normalize([0.485, 0.456, 0.406], [0.229, 0.224, 0.225]),\n",
        "    ]\n",
        ")"
      ]
    },
    {
      "cell_type": "markdown",
      "metadata": {
        "id": "uHB0vf2f3PdR"
      },
      "source": [
        "We switch the model to evaluation mode since we don't want to update the weights of the model anymore:"
      ]
    },
    {
      "cell_type": "code",
      "execution_count": null,
      "metadata": {
        "id": "vs71D8Tw3PdS"
      },
      "outputs": [],
      "source": [
        "model = model.eval()"
      ]
    },
    {
      "cell_type": "code",
      "execution_count": null,
      "metadata": {
        "id": "pk2YKv8K3PdS"
      },
      "outputs": [],
      "source": [
        "external_id_array_non_labeled_assets = []\n",
        "y_true_non_labeled_assets = []\n",
        "embeddings_non_labeled_assets = []\n",
        "y_pred_dinov2_non_labeled_assets = []\n",
        "json_response_array_non_labeled_assets = []\n",
        "\n",
        "for asset in tqdm(non_labeled_assets):\n",
        "    external_id_array_non_labeled_assets.append(asset[\"externalId\"])\n",
        "    y_true_non_labeled_assets.append(asset[\"jsonMetadata\"][\"Ground Truth\"])\n",
        "\n",
        "    img = Image.open(asset[\"content\"])\n",
        "\n",
        "    img_tensor = data_transforms(img)\n",
        "    img_tensor = img_tensor.unsqueeze(0)\n",
        "    input_tensor = img_tensor.to(device)\n",
        "\n",
        "    # Perform inference\n",
        "    with torch.no_grad():\n",
        "        embeddings = model.transformer(input_tensor)\n",
        "        embeddings_non_labeled_assets.append(embeddings[0].cpu().numpy())\n",
        "        x = model.transformer.norm(embeddings)\n",
        "        output_tensor = model.classifier(x)\n",
        "\n",
        "    score = output_tensor[0][0].item()\n",
        "\n",
        "    score = 1 / (1 + np.exp(-score))  # sigmoid\n",
        "\n",
        "    output_class = \"YES\" if score > 0.5 else \"NO\"\n",
        "\n",
        "    y_pred_dinov2_non_labeled_assets.append(output_class)\n",
        "\n",
        "    json_response_array_non_labeled_assets.append(\n",
        "        {\n",
        "            \"CLASSIFICATION_JOB\": {\n",
        "                \"categories\": [{\"confidence\": int(round(score * 100)), \"name\": output_class}]\n",
        "            }\n",
        "        }\n",
        "    )"
      ]
    },
    {
      "cell_type": "markdown",
      "metadata": {
        "id": "ZfgKJr5t3PdS"
      },
      "source": [
        "We now push the predictions to Kili as pre-annotations (prediction) and inference labels.\n",
        "\n",
        "The pre-annotations will be helpful for the labelers to label the assets, since those pre-annotations will be displayed in the Kili interface. It will help them to label the assets faster.\n",
        "\n",
        "The inference labels will be used to evaluate the quality of the model against labelers.\n",
        "\n",
        "You can learn more about the different kinds of labels in the [Kili documentation](https://docs.kili-technology.com/docs/asset-lifecycle)."
      ]
    },
    {
      "cell_type": "code",
      "execution_count": null,
      "metadata": {
        "id": "Cs7LyNH-3PdS"
      },
      "outputs": [],
      "source": [
        "kili.append_labels(\n",
        "    project_id=project_id,\n",
        "    json_response_array=json_response_array_non_labeled_assets,\n",
        "    model_name=\"DINOv2\",\n",
        "    label_type=\"INFERENCE\",\n",
        "    asset_external_id_array=external_id_array_non_labeled_assets,\n",
        ")\n",
        "\n",
        "kili.append_labels(\n",
        "    project_id=project_id,\n",
        "    json_response_array=json_response_array_non_labeled_assets,\n",
        "    model_name=\"DINOv2\",\n",
        "    label_type=\"PREDICTION\",\n",
        "    asset_external_id_array=external_id_array_non_labeled_assets,\n",
        ");"
      ]
    },
    {
      "cell_type": "markdown",
      "metadata": {
        "id": "0m65AHq03PdT"
      },
      "source": [
        "## Pre-annotations quality analysis\n"
      ]
    },
    {
      "cell_type": "markdown",
      "metadata": {
        "id": "0EGQo7Oa3PdT"
      },
      "source": [
        "### Finetuning with DINOv2"
      ]
    },
    {
      "cell_type": "code",
      "execution_count": null,
      "metadata": {
        "id": "_60k3wzY3PdT",
        "outputId": "5443d7c1-7f66-4106-ed96-7439d0d6e08c"
      },
      "outputs": [
        {
          "name": "stdout",
          "output_type": "stream",
          "text": [
            "              precision    recall  f1-score   support\n",
            "\n",
            "          NO       0.97      0.94      0.95       100\n",
            "         YES       0.94      0.97      0.96       100\n",
            "\n",
            "    accuracy                           0.95       200\n",
            "   macro avg       0.96      0.95      0.95       200\n",
            "weighted avg       0.96      0.95      0.95       200\n",
            "\n"
          ]
        }
      ],
      "source": [
        "print(classification_report(y_true_non_labeled_assets, y_pred_dinov2_non_labeled_assets))"
      ]
    },
    {
      "cell_type": "markdown",
      "metadata": {
        "id": "K9ILIeDb3PdT"
      },
      "source": [
        "We get an accuracy of ~95% for the fine-tuned DINOv2 model on a binary classification task."
      ]
    },
    {
      "cell_type": "markdown",
      "metadata": {
        "id": "21S8rI6M3PdT"
      },
      "source": [
        "### K-nearest neighbors\n",
        "\n",
        "We can also use the embeddings directly to find the nearest neighbors of an image, and use the class of the nearest neighbors as the predicted class.\n",
        "\n",
        "This method has the advantage of not requiring to fine-tune the model.\n",
        "\n",
        "It however takes some time to pre-compute the embeddings of all the images in the dataset."
      ]
    },
    {
      "cell_type": "code",
      "execution_count": null,
      "metadata": {
        "id": "yl_EpSk93PdU"
      },
      "outputs": [],
      "source": [
        "from sklearn.neighbors import KNeighborsClassifier\n",
        "\n",
        "neigh = KNeighborsClassifier(n_neighbors=5)"
      ]
    },
    {
      "cell_type": "code",
      "execution_count": null,
      "metadata": {
        "id": "EgTd6bZw3PdU"
      },
      "outputs": [],
      "source": [
        "dinov2_vits14 = dinov2_vits14.to(device)"
      ]
    },
    {
      "cell_type": "code",
      "execution_count": null,
      "metadata": {
        "id": "VyRhVWum3PdV"
      },
      "outputs": [],
      "source": [
        "embeddings_labeled_assets = []\n",
        "y_true_training_knn = []\n",
        "\n",
        "for asset in tqdm(labeled_assets):\n",
        "    class_name = asset[\"jsonMetadata\"][\"Ground Truth\"]\n",
        "    y_true_training_knn.append(class_name)\n",
        "\n",
        "    filepath = asset[\"content\"].replace(\"/data/\", \"/data/train/\" + class_name + \"/\")\n",
        "    img = Image.open(filepath)\n",
        "    img_tensor = data_transforms(img)\n",
        "    img_tensor = img_tensor.unsqueeze(0)\n",
        "    input_tensor = img_tensor.to(device)\n",
        "\n",
        "    with torch.no_grad():\n",
        "        output_tensor = dinov2_vits14(input_tensor)\n",
        "    embeddings_labeled_assets.append(output_tensor[0].cpu().numpy())\n",
        "\n",
        "neigh.fit(embeddings_labeled_assets, y_true_training_knn);"
      ]
    },
    {
      "cell_type": "code",
      "execution_count": null,
      "metadata": {
        "id": "ZzTKRaSL3PdV"
      },
      "outputs": [],
      "source": [
        "y_pred_knn = neigh.predict(embeddings_non_labeled_assets)"
      ]
    },
    {
      "cell_type": "code",
      "execution_count": null,
      "metadata": {
        "id": "rVg58guW3PdV",
        "outputId": "0d1d359e-5af0-458b-89c0-10b4358cdd51"
      },
      "outputs": [
        {
          "name": "stdout",
          "output_type": "stream",
          "text": [
            "              precision    recall  f1-score   support\n",
            "\n",
            "          NO       0.91      0.84      0.87       100\n",
            "         YES       0.85      0.92      0.88       100\n",
            "\n",
            "    accuracy                           0.88       200\n",
            "   macro avg       0.88      0.88      0.88       200\n",
            "weighted avg       0.88      0.88      0.88       200\n",
            "\n"
          ]
        }
      ],
      "source": [
        "print(classification_report(y_true_non_labeled_assets, y_pred_knn))"
      ]
    },
    {
      "cell_type": "markdown",
      "metadata": {
        "id": "oydPmHoN3PdV"
      },
      "source": [
        "As you can see, the accuracy is lower than with the fine-tuned model."
      ]
    },
    {
      "cell_type": "markdown",
      "metadata": {
        "id": "A8z_FS3-3PdW"
      },
      "source": [
        "## Upload more manual annotations\n",
        "\n",
        "In the section above, we uploaded model-made annotations on the non-labeled assets to Kili.\n",
        "\n",
        "Now, we simulate manual labeling on the non-labeled assets:"
      ]
    },
    {
      "cell_type": "code",
      "execution_count": null,
      "metadata": {
        "id": "RKAroICl3PdW"
      },
      "outputs": [],
      "source": [
        "gt_external_id_array = []\n",
        "gt_json_response_array = []\n",
        "\n",
        "for asset in non_labeled_assets:\n",
        "    gt_external_id_array.append(asset[\"externalId\"])\n",
        "    gt_json_response_array.append(\n",
        "        {\n",
        "            \"CLASSIFICATION_JOB\": {\n",
        "                \"categories\": [{\"confidence\": 100, \"name\": asset[\"jsonMetadata\"][\"Ground Truth\"]}]\n",
        "            }\n",
        "        }\n",
        "    )"
      ]
    },
    {
      "cell_type": "code",
      "execution_count": null,
      "metadata": {
        "id": "FG81zDIZ3PdW"
      },
      "outputs": [],
      "source": [
        "kili.append_labels(\n",
        "    project_id=project_id,\n",
        "    asset_external_id_array=gt_external_id_array,\n",
        "    json_response_array=gt_json_response_array,\n",
        "    label_type=\"DEFAULT\",\n",
        ");"
      ]
    },
    {
      "cell_type": "markdown",
      "metadata": {
        "id": "cCWUigl93PdW"
      },
      "source": [
        "In the Kili interface, we can filter the assets based on the disagreements between human-made labels and DINOv2-generated labels:"
      ]
    },
    {
      "cell_type": "code",
      "execution_count": null,
      "metadata": {
        "id": "NgdXolzc3PdW",
        "outputId": "c4c02ed7-1cbd-42e6-d38a-94ab5a6192a3"
      },
      "outputs": [
        {
          "name": "stdout",
          "output_type": "stream",
          "text": [
            "https://cloud.kili-technology.com/label/projects/cliistnwa003c0j78ay1y3qlm/explore?inferenceMarkGte=0&inferenceMarkLte=0.75\n"
          ]
        }
      ],
      "source": [
        "# replace the project id below with your own!\n",
        "print(\n",
        "    f\"https://cloud.kili-technology.com/label/projects/{project_id}/explore?inferenceMarkGte=0&inferenceMarkLte=0.75\"\n",
        ")"
      ]
    },
    {
      "cell_type": "markdown",
      "metadata": {
        "id": "MEocdBak3PdX"
      },
      "source": [
        "![image.png](attachment:8d64f1c1-7b24-43b2-8f34-98180dcf43e7.png)"
      ]
    },
    {
      "cell_type": "markdown",
      "metadata": {
        "id": "dEmEstDz3PdX"
      },
      "source": [
        "In the image above, we can see that the DINOv2 prediction has classified this asset as a negative sample, when it should have been classified as a positive sample."
      ]
    },
    {
      "cell_type": "markdown",
      "metadata": {
        "id": "55GC3hAL3PdX"
      },
      "source": [
        "## Conclusion\n",
        "\n",
        "In this tutorial, we have seen how to fine-tune the DINOv2 model on a very small set of labeled images, and how to use the fine-tuned model to generate pre-annotations on a set of images to label.\n",
        "\n",
        "We have also seen how to evaluate the quality of the generated pre-annotations, and how to use them to speed up the labeling process."
      ]
    },
    {
      "cell_type": "markdown",
      "metadata": {
        "id": "1kj5bujI3PdX"
      },
      "source": [
        "## Clean up\n",
        "\n",
        "We can now delete the project we created on Kili:"
      ]
    },
    {
      "cell_type": "code",
      "execution_count": null,
      "metadata": {
        "id": "oXybPkWQ3PdX"
      },
      "outputs": [],
      "source": [
        "kili.delete_project(project_id=project_id)"
      ]
    }
  ],
  "metadata": {
    "language_info": {
      "name": "python"
    },
    "colab": {
      "provenance": []
    },
    "kernelspec": {
      "name": "python3",
      "display_name": "Python 3"
    }
  },
  "nbformat": 4,
  "nbformat_minor": 0
}